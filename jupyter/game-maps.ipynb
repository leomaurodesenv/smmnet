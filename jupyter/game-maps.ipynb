{
 "cells": [
  {
   "cell_type": "markdown",
   "metadata": {},
   "source": [
    "# Overview: Game Maps"
   ]
  },
  {
   "cell_type": "code",
   "execution_count": 1,
   "metadata": {
    "ExecuteTime": {
     "end_time": "2019-07-04T18:37:42.279077Z",
     "start_time": "2019-07-04T18:37:41.815076Z"
    }
   },
   "outputs": [],
   "source": [
    "# Pandas\n",
    "import numpy as np\n",
    "import pandas as pd\n",
    "# Plot\n",
    "import seaborn as sns\n",
    "import matplotlib as mpl\n",
    "import matplotlib.pyplot as plt\n",
    "\n",
    "mpl.style.use('seaborn-whitegrid')\n",
    "%matplotlib inline"
   ]
  },
  {
   "cell_type": "markdown",
   "metadata": {},
   "source": [
    "Read data"
   ]
  },
  {
   "cell_type": "code",
   "execution_count": 2,
   "metadata": {
    "ExecuteTime": {
     "end_time": "2019-07-04T18:37:44.498140Z",
     "start_time": "2019-07-04T18:37:42.280710Z"
    }
   },
   "outputs": [],
   "source": [
    "dataset_folder = '../input'\n",
    "plot_folder = '../plot'\n",
    "\n",
    "courses = pd.read_csv('%s/%s.csv' % (dataset_folder, 'courses'), sep='\\t', encoding='utf-8')\n",
    "players = pd.read_csv('%s/%s.csv' % (dataset_folder, 'players'), sep='\\t', encoding='utf-8')"
   ]
  },
  {
   "cell_type": "markdown",
   "metadata": {},
   "source": [
    "## Overview"
   ]
  },
  {
   "cell_type": "code",
   "execution_count": 3,
   "metadata": {
    "ExecuteTime": {
     "end_time": "2019-07-04T18:37:44.510409Z",
     "start_time": "2019-07-04T18:37:44.499478Z"
    }
   },
   "outputs": [
    {
     "data": {
      "text/html": [
       "<div>\n",
       "<style scoped>\n",
       "    .dataframe tbody tr th:only-of-type {\n",
       "        vertical-align: middle;\n",
       "    }\n",
       "\n",
       "    .dataframe tbody tr th {\n",
       "        vertical-align: top;\n",
       "    }\n",
       "\n",
       "    .dataframe thead th {\n",
       "        text-align: right;\n",
       "    }\n",
       "</style>\n",
       "<table border=\"1\" class=\"dataframe\">\n",
       "  <thead>\n",
       "    <tr style=\"text-align: right;\">\n",
       "      <th></th>\n",
       "      <th>id</th>\n",
       "      <th>difficulty</th>\n",
       "      <th>gameStyle</th>\n",
       "      <th>maker</th>\n",
       "      <th>title</th>\n",
       "      <th>thumbnail</th>\n",
       "      <th>image</th>\n",
       "      <th>creation</th>\n",
       "    </tr>\n",
       "  </thead>\n",
       "  <tbody>\n",
       "    <tr>\n",
       "      <th>0</th>\n",
       "      <td>079D-0000-0351-17E2</td>\n",
       "      <td>expert</td>\n",
       "      <td>marioBros3</td>\n",
       "      <td>NolramImpro</td>\n",
       "      <td>Apocalipse 14:12</td>\n",
       "      <td>https://dypqnhofrd2x2.cloudfront.net/079D-0000...</td>\n",
       "      <td>https://dypqnhofrd2x2.cloudfront.net/079D-0000...</td>\n",
       "      <td>2017-08-11 00:00:00</td>\n",
       "    </tr>\n",
       "    <tr>\n",
       "      <th>1</th>\n",
       "      <td>07CD-0000-030D-EA60</td>\n",
       "      <td>expert</td>\n",
       "      <td>marioBrosU</td>\n",
       "      <td>igorsssa</td>\n",
       "      <td>Dangerous Ship Fantasy</td>\n",
       "      <td>https://dypqnhofrd2x2.cloudfront.net/07CD-0000...</td>\n",
       "      <td>https://dypqnhofrd2x2.cloudfront.net/07CD-0000...</td>\n",
       "      <td>2017-03-11 00:00:00</td>\n",
       "    </tr>\n",
       "    <tr>\n",
       "      <th>2</th>\n",
       "      <td>07F7-0000-030F-A51B</td>\n",
       "      <td>superExpert</td>\n",
       "      <td>marioWorld</td>\n",
       "      <td>Wiggle133</td>\n",
       "      <td>Pow-Ing (Speedrun) (^o^)</td>\n",
       "      <td>https://dypqnhofrd2x2.cloudfront.net/07F7-0000...</td>\n",
       "      <td>https://dypqnhofrd2x2.cloudfront.net/07F7-0000...</td>\n",
       "      <td>2017-03-14 00:00:00</td>\n",
       "    </tr>\n",
       "  </tbody>\n",
       "</table>\n",
       "</div>"
      ],
      "text/plain": [
       "                    id   difficulty   gameStyle        maker  \\\n",
       "0  079D-0000-0351-17E2       expert  marioBros3  NolramImpro   \n",
       "1  07CD-0000-030D-EA60       expert  marioBrosU     igorsssa   \n",
       "2  07F7-0000-030F-A51B  superExpert  marioWorld    Wiggle133   \n",
       "\n",
       "                      title  \\\n",
       "0          Apocalipse 14:12   \n",
       "1    Dangerous Ship Fantasy   \n",
       "2  Pow-Ing (Speedrun) (^o^)   \n",
       "\n",
       "                                           thumbnail  \\\n",
       "0  https://dypqnhofrd2x2.cloudfront.net/079D-0000...   \n",
       "1  https://dypqnhofrd2x2.cloudfront.net/07CD-0000...   \n",
       "2  https://dypqnhofrd2x2.cloudfront.net/07F7-0000...   \n",
       "\n",
       "                                               image             creation  \n",
       "0  https://dypqnhofrd2x2.cloudfront.net/079D-0000...  2017-08-11 00:00:00  \n",
       "1  https://dypqnhofrd2x2.cloudfront.net/07CD-0000...  2017-03-11 00:00:00  \n",
       "2  https://dypqnhofrd2x2.cloudfront.net/07F7-0000...  2017-03-14 00:00:00  "
      ]
     },
     "execution_count": 3,
     "metadata": {},
     "output_type": "execute_result"
    }
   ],
   "source": [
    "courses.head(3)"
   ]
  },
  {
   "cell_type": "markdown",
   "metadata": {},
   "source": [
    "### Difficulty"
   ]
  },
  {
   "cell_type": "code",
   "execution_count": 4,
   "metadata": {
    "ExecuteTime": {
     "end_time": "2019-07-04T18:37:44.647140Z",
     "start_time": "2019-07-04T18:37:44.511953Z"
    }
   },
   "outputs": [
    {
     "data": {
      "image/png": "[encoded data removed]",
      "text/plain": [
       "<Figure size 288x72 with 1 Axes>"
      ]
     },
     "metadata": {
      "needs_background": "light"
     },
     "output_type": "display_data"
    }
   ],
   "source": [
    "# palette of colors\n",
    "palette = sns.color_palette('cubehelix', 4)\n",
    "sns.palplot(palette)"
   ]
  },
  {
   "cell_type": "markdown",
   "metadata": {},
   "source": [
    "### Game Style"
   ]
  },
  {
   "cell_type": "code",
   "execution_count": 5,
   "metadata": {
    "ExecuteTime": {
     "end_time": "2019-07-04T18:37:44.795571Z",
     "start_time": "2019-07-04T18:37:44.648275Z"
    }
   },
   "outputs": [],
   "source": [
    "# autopct pie plot - function\n",
    "def func(pct, allvals):\n",
    "    absolute = float(pct/100.*np.sum(allvals))/1000.0\n",
    "    return \"{:.1f}%\\n({:.1f}k)\".format(pct, absolute)\n",
    "\n",
    "# plot\n",
    "fontsize = 14"
   ]
  },
  {
   "cell_type": "code",
   "execution_count": 6,
   "metadata": {
    "ExecuteTime": {
     "end_time": "2019-07-04T18:37:45.039160Z",
     "start_time": "2019-07-04T18:37:44.796837Z"
    }
   },
   "outputs": [
    {
     "name": "stdout",
     "output_type": "stream",
     "text": [
      "[('expert', 27753), ('superExpert', 6233), ('normal', 51354), ('easy', 29692)]\n"
     ]
    },
    {
     "data": {
      "image/png": "[encoded data removed]",
      "text/plain": [
       "<Figure size 432x288 with 1 Axes>"
      ]
     },
     "metadata": {},
     "output_type": "display_data"
    }
   ],
   "source": [
    "# values\n",
    "labels = courses['difficulty'].unique().tolist()\n",
    "values = [sum(courses['difficulty'] == label) for label in labels]\n",
    "print(list(zip(labels, values)))\n",
    "explode = [0.03] * len(values)\n",
    "\n",
    "# plot\n",
    "fig, ax = plt.subplots()\n",
    "ax.pie(values, autopct=lambda pct: func(pct, values), pctdistance=0.45,\n",
    "       colors=palette, explode=explode, labels=labels,\n",
    "       textprops={'fontsize':fontsize,'weight':'bold'})\n",
    "centre_circle = plt.Circle((0,0),0.75,fc='white')\n",
    "fig = plt.gcf()\n",
    "fig.gca().add_artist(centre_circle)\n",
    "\n",
    "# figure\n",
    "ax.axis('equal')\n",
    "plt.tight_layout()\n",
    "plt.savefig('%s/%s.pdf' % (plot_folder, 'difficulty'), dpi=300, bbox_inches='tight')\n",
    "plt.show()"
   ]
  },
  {
   "cell_type": "code",
   "execution_count": 7,
   "metadata": {
    "ExecuteTime": {
     "end_time": "2019-07-04T18:37:45.250797Z",
     "start_time": "2019-07-04T18:37:45.040629Z"
    }
   },
   "outputs": [
    {
     "name": "stdout",
     "output_type": "stream",
     "text": [
      "[('marioBros3', 9318), ('marioBrosU', 59464), ('marioWorld', 21908), ('marioBros', 24342)]\n"
     ]
    },
    {
     "data": {
      "image/png": "[encoded data removed]",
      "text/plain": [
       "<Figure size 432x288 with 1 Axes>"
      ]
     },
     "metadata": {},
     "output_type": "display_data"
    }
   ],
   "source": [
    "# values\n",
    "labels = courses['gameStyle'].unique().tolist()\n",
    "values = [sum(courses['gameStyle'] == label) for label in labels]\n",
    "print(list(zip(labels, values)))\n",
    "explode = [0.03] * len(values)\n",
    "\n",
    "# plot\n",
    "fig, ax = plt.subplots()\n",
    "ax.pie(values, autopct=lambda pct: func(pct, values), pctdistance=0.45,\n",
    "       colors=palette, explode=explode, labels=labels,\n",
    "       textprops={'fontsize':fontsize,'weight':'bold'})\n",
    "centre_circle = plt.Circle((0,0),0.75,fc='white')\n",
    "fig = plt.gcf()\n",
    "fig.gca().add_artist(centre_circle)\n",
    "\n",
    "# figure\n",
    "ax.axis('equal')\n",
    "plt.tight_layout()\n",
    "plt.savefig('%s/%s.pdf' % (plot_folder, 'gameStyle'), dpi=300, bbox_inches='tight')\n",
    "plt.show()"
   ]
  },
  {
   "cell_type": "markdown",
   "metadata": {},
   "source": [
    "### Makers - Players who develop maps"
   ]
  },
  {
   "cell_type": "code",
   "execution_count": 8,
   "metadata": {
    "ExecuteTime": {
     "end_time": "2019-07-04T18:37:45.295729Z",
     "start_time": "2019-07-04T18:37:45.252093Z"
    }
   },
   "outputs": [
    {
     "name": "stdout",
     "output_type": "stream",
     "text": [
      "number of makers: 48621\n"
     ]
    }
   ],
   "source": [
    "makers = courses['maker'].value_counts().to_dict()\n",
    "print('number of makers: %d' % (len(makers)))"
   ]
  },
  {
   "cell_type": "markdown",
   "metadata": {},
   "source": [
    "Who produce more courses?  \n",
    "Top-25 makers (by number of courses)  "
   ]
  },
  {
   "cell_type": "code",
   "execution_count": 9,
   "metadata": {
    "ExecuteTime": {
     "end_time": "2019-07-04T18:37:45.535940Z",
     "start_time": "2019-07-04T18:37:45.298061Z"
    }
   },
   "outputs": [
    {
     "data": {
      "image/png": "[encoded data removed]",
      "text/plain": [
       "<Figure size 432x288 with 1 Axes>"
      ]
     },
     "metadata": {
      "needs_background": "light"
     },
     "output_type": "display_data"
    }
   ],
   "source": [
    "# values\n",
    "top = 25\n",
    "labels = list(makers.keys())[0:top]\n",
    "x_axis = range(len(labels))\n",
    "y_axis = list(makers.values())[0:top]\n",
    "\n",
    "# plot\n",
    "fig, ax = plt.subplots()\n",
    "plt.bar(x_axis, y_axis, align='center', color=palette[0])\n",
    "plt.xticks(x_axis, labels, rotation=90)\n",
    "plt.show()"
   ]
  },
  {
   "cell_type": "markdown",
   "metadata": {},
   "source": [
    "### Courses by country"
   ]
  },
  {
   "cell_type": "code",
   "execution_count": 10,
   "metadata": {
    "ExecuteTime": {
     "end_time": "2019-07-04T18:37:45.725724Z",
     "start_time": "2019-07-04T18:37:45.537374Z"
    }
   },
   "outputs": [
    {
     "data": {
      "text/html": [
       "<div>\n",
       "<style scoped>\n",
       "    .dataframe tbody tr th:only-of-type {\n",
       "        vertical-align: middle;\n",
       "    }\n",
       "\n",
       "    .dataframe tbody tr th {\n",
       "        vertical-align: top;\n",
       "    }\n",
       "\n",
       "    .dataframe thead th {\n",
       "        text-align: right;\n",
       "    }\n",
       "</style>\n",
       "<table border=\"1\" class=\"dataframe\">\n",
       "  <thead>\n",
       "    <tr style=\"text-align: right;\">\n",
       "      <th></th>\n",
       "      <th>image</th>\n",
       "      <th>flag</th>\n",
       "      <th>name</th>\n",
       "    </tr>\n",
       "    <tr>\n",
       "      <th>id</th>\n",
       "      <th></th>\n",
       "      <th></th>\n",
       "      <th></th>\n",
       "    </tr>\n",
       "  </thead>\n",
       "  <tbody>\n",
       "    <tr>\n",
       "      <th>NolramImpro</th>\n",
       "      <td>http://mii-images.cdn.nintendo.net/3nhht3y6sjm...</td>\n",
       "      <td>BR</td>\n",
       "      <td>Nolram</td>\n",
       "    </tr>\n",
       "    <tr>\n",
       "      <th>SGK2017</th>\n",
       "      <td>http://mii-images.cdn.nintendo.net/4bxo1rny12r...</td>\n",
       "      <td>JP</td>\n",
       "      <td>しげ</td>\n",
       "    </tr>\n",
       "    <tr>\n",
       "      <th>preamstrikbiz0</th>\n",
       "      <td>http://mii-images.cdn.nintendo.net/2i0nphr806h...</td>\n",
       "      <td>US</td>\n",
       "      <td>primo</td>\n",
       "    </tr>\n",
       "    <tr>\n",
       "      <th>gotatari</th>\n",
       "      <td>http://mii-images.cdn.nintendo.net/2dvhs41zz7y...</td>\n",
       "      <td>JP</td>\n",
       "      <td>たくと</td>\n",
       "    </tr>\n",
       "    <tr>\n",
       "      <th>skrufpanda</th>\n",
       "      <td>http://mii-images.cdn.nintendo.net/2n2gr4n7oxg...</td>\n",
       "      <td>NO</td>\n",
       "      <td>pinkachuz</td>\n",
       "    </tr>\n",
       "  </tbody>\n",
       "</table>\n",
       "</div>"
      ],
      "text/plain": [
       "                                                            image flag  \\\n",
       "id                                                                       \n",
       "NolramImpro     http://mii-images.cdn.nintendo.net/3nhht3y6sjm...   BR   \n",
       "SGK2017         http://mii-images.cdn.nintendo.net/4bxo1rny12r...   JP   \n",
       "preamstrikbiz0  http://mii-images.cdn.nintendo.net/2i0nphr806h...   US   \n",
       "gotatari        http://mii-images.cdn.nintendo.net/2dvhs41zz7y...   JP   \n",
       "skrufpanda      http://mii-images.cdn.nintendo.net/2n2gr4n7oxg...   NO   \n",
       "\n",
       "                     name  \n",
       "id                         \n",
       "NolramImpro        Nolram  \n",
       "SGK2017                しげ  \n",
       "preamstrikbiz0      primo  \n",
       "gotatari              たくと  \n",
       "skrufpanda      pinkachuz  "
      ]
     },
     "execution_count": 10,
     "metadata": {},
     "output_type": "execute_result"
    }
   ],
   "source": [
    "players = players.set_index('id')\n",
    "players.head()"
   ]
  },
  {
   "cell_type": "code",
   "execution_count": 11,
   "metadata": {
    "ExecuteTime": {
     "end_time": "2019-07-04T18:37:47.416142Z",
     "start_time": "2019-07-04T18:37:45.727087Z"
    }
   },
   "outputs": [],
   "source": [
    "# players\n",
    "df = pd.DataFrame(makers, index=['courses']).transpose()\n",
    "df = df.rename(columns={'index':'id'})"
   ]
  },
  {
   "cell_type": "code",
   "execution_count": 12,
   "metadata": {
    "ExecuteTime": {
     "end_time": "2019-07-04T18:37:50.136848Z",
     "start_time": "2019-07-04T18:37:47.417439Z"
    }
   },
   "outputs": [
    {
     "data": {
      "text/html": [
       "<div>\n",
       "<style scoped>\n",
       "    .dataframe tbody tr th:only-of-type {\n",
       "        vertical-align: middle;\n",
       "    }\n",
       "\n",
       "    .dataframe tbody tr th {\n",
       "        vertical-align: top;\n",
       "    }\n",
       "\n",
       "    .dataframe thead th {\n",
       "        text-align: right;\n",
       "    }\n",
       "</style>\n",
       "<table border=\"1\" class=\"dataframe\">\n",
       "  <thead>\n",
       "    <tr style=\"text-align: right;\">\n",
       "      <th></th>\n",
       "      <th>courses</th>\n",
       "      <th>image</th>\n",
       "      <th>flag</th>\n",
       "      <th>name</th>\n",
       "    </tr>\n",
       "  </thead>\n",
       "  <tbody>\n",
       "    <tr>\n",
       "      <th>Xavierol69</th>\n",
       "      <td>100.0</td>\n",
       "      <td>http://mii-images.cdn.nintendo.net/2q6bnifk217...</td>\n",
       "      <td>FR</td>\n",
       "      <td>Shira2</td>\n",
       "    </tr>\n",
       "    <tr>\n",
       "      <th>Zerodius</th>\n",
       "      <td>100.0</td>\n",
       "      <td>http://mii-images.cdn.nintendo.net/10s9tax9tth...</td>\n",
       "      <td>CA</td>\n",
       "      <td>Myuu</td>\n",
       "    </tr>\n",
       "    <tr>\n",
       "      <th>JustinDianaRalf</th>\n",
       "      <td>83.0</td>\n",
       "      <td>http://mii-images.cdn.nintendo.net/20teh66s59n...</td>\n",
       "      <td>DE</td>\n",
       "      <td>ralf</td>\n",
       "    </tr>\n",
       "    <tr>\n",
       "      <th>Shiraur</th>\n",
       "      <td>80.0</td>\n",
       "      <td>http://mii-images.cdn.nintendo.net/1x4h3o20p6l...</td>\n",
       "      <td>FR</td>\n",
       "      <td>Shira</td>\n",
       "    </tr>\n",
       "    <tr>\n",
       "      <th>drmsj1983</th>\n",
       "      <td>80.0</td>\n",
       "      <td>http://mii-images.cdn.nintendo.net/nvw6z8oqj1p...</td>\n",
       "      <td>CA</td>\n",
       "      <td>dan</td>\n",
       "    </tr>\n",
       "  </tbody>\n",
       "</table>\n",
       "</div>"
      ],
      "text/plain": [
       "                 courses                                              image  \\\n",
       "Xavierol69         100.0  http://mii-images.cdn.nintendo.net/2q6bnifk217...   \n",
       "Zerodius           100.0  http://mii-images.cdn.nintendo.net/10s9tax9tth...   \n",
       "JustinDianaRalf     83.0  http://mii-images.cdn.nintendo.net/20teh66s59n...   \n",
       "Shiraur             80.0  http://mii-images.cdn.nintendo.net/1x4h3o20p6l...   \n",
       "drmsj1983           80.0  http://mii-images.cdn.nintendo.net/nvw6z8oqj1p...   \n",
       "\n",
       "                flag    name  \n",
       "Xavierol69        FR  Shira2  \n",
       "Zerodius          CA    Myuu  \n",
       "JustinDianaRalf   DE    ralf  \n",
       "Shiraur           FR   Shira  \n",
       "drmsj1983         CA     dan  "
      ]
     },
     "execution_count": 12,
     "metadata": {},
     "output_type": "execute_result"
    }
   ],
   "source": [
    "df2 = pd.concat([df, players], sort=True, axis=1)\n",
    "df2 = df2.dropna(subset=['courses']).sort_values(by=['courses'], ascending=False)\n",
    "df2.head()"
   ]
  },
  {
   "cell_type": "markdown",
   "metadata": {},
   "source": [
    "Counting number of courses by country"
   ]
  },
  {
   "cell_type": "code",
   "execution_count": 13,
   "metadata": {
    "ExecuteTime": {
     "end_time": "2019-07-04T18:37:50.142851Z",
     "start_time": "2019-07-04T18:37:50.138056Z"
    }
   },
   "outputs": [],
   "source": [
    "countries = {flag:0 for flag in df2['flag'].unique().tolist()}"
   ]
  },
  {
   "cell_type": "code",
   "execution_count": 14,
   "metadata": {
    "ExecuteTime": {
     "end_time": "2019-07-04T18:37:52.943539Z",
     "start_time": "2019-07-04T18:37:50.144396Z"
    }
   },
   "outputs": [],
   "source": [
    "for maker, row in df2.iterrows():\n",
    "    countries[row['flag']] += int(row['courses'])"
   ]
  },
  {
   "cell_type": "code",
   "execution_count": 15,
   "metadata": {
    "ExecuteTime": {
     "end_time": "2019-07-04T18:37:53.045847Z",
     "start_time": "2019-07-04T18:37:52.945037Z"
    }
   },
   "outputs": [
    {
     "name": "stdout",
     "output_type": "stream",
     "text": [
      "{'FR': 40464, 'CA': 34485, 'DE': 37278, 'BR': 2729}\n"
     ]
    },
    {
     "data": {
      "image/png": "[encoded data removed]",
      "text/plain": [
       "<Figure size 432x288 with 1 Axes>"
      ]
     },
     "metadata": {},
     "output_type": "display_data"
    }
   ],
   "source": [
    "# values\n",
    "labels = list(countries.keys())\n",
    "values = [countries[label] for label in labels]\n",
    "print(countries)\n",
    "explode = [0.03] * len(labels)\n",
    "\n",
    "# plot\n",
    "fig, ax = plt.subplots()\n",
    "ax.pie(values, autopct=lambda pct: func(pct, values), pctdistance=0.45,\n",
    "       colors=palette, explode=explode, labels=labels,\n",
    "       textprops={'fontsize':fontsize,'weight':'bold'})\n",
    "centre_circle = plt.Circle((0,0),0.75,fc='white')\n",
    "fig = plt.gcf()\n",
    "fig.gca().add_artist(centre_circle)\n",
    "\n",
    "# figure\n",
    "ax.axis('equal')  \n",
    "plt.tight_layout()\n",
    "plt.savefig('%s/%s.pdf' % (plot_folder, 'countries'), dpi=300, bbox_inches='tight')\n",
    "plt.show()"
   ]
  },
  {
   "cell_type": "code",
   "execution_count": null,
   "metadata": {},
   "outputs": [],
   "source": []
  }
 ],
 "metadata": {
  "kernelspec": {
   "display_name": "Python 3",
   "language": "python",
   "name": "python3"
  },
  "language_info": {
   "codemirror_mode": {
    "name": "ipython",
    "version": 3
   },
   "file_extension": ".py",
   "mimetype": "text/x-python",
   "name": "python",
   "nbconvert_exporter": "python",
   "pygments_lexer": "ipython3",
   "version": "3.7.2"
  },
  "varInspector": {
   "cols": {
    "lenName": 16,
    "lenType": 16,
    "lenVar": 40
   },
   "kernels_config": {
    "python": {
     "delete_cmd_postfix": "",
     "delete_cmd_prefix": "del ",
     "library": "var_list.py",
     "varRefreshCmd": "print(var_dic_list())"
    },
    "r": {
     "delete_cmd_postfix": ") ",
     "delete_cmd_prefix": "rm(",
     "library": "var_list.r",
     "varRefreshCmd": "cat(var_dic_list()) "
    }
   },
   "types_to_exclude": [
    "module",
    "function",
    "builtin_function_or_method",
    "instance",
    "_Feature"
   ],
   "window_display": false
  }
 },
 "nbformat": 4,
 "nbformat_minor": 2
}
