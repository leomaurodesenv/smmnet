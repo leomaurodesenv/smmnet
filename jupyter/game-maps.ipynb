{
 "cells": [
  {
   "cell_type": "markdown",
   "metadata": {},
   "source": [
    "# Overview: Game Maps"
   ]
  },
  {
   "cell_type": "code",
   "execution_count": 2,
   "metadata": {
    "ExecuteTime": {
     "end_time": "2019-05-14T12:25:57.301648Z",
     "start_time": "2019-05-14T12:25:57.294209Z"
    }
   },
   "outputs": [],
   "source": [
    "# Pandas\n",
    "import pandas as pd\n",
    "# Plot\n",
    "import seaborn as sns\n",
    "import matplotlib as mpl\n",
    "import matplotlib.pyplot as plt\n",
    "\n",
    "mpl.style.use('seaborn-whitegrid')\n",
    "%matplotlib inline"
   ]
  },
  {
   "cell_type": "markdown",
   "metadata": {},
   "source": [
    "Read data"
   ]
  },
  {
   "cell_type": "code",
   "execution_count": 3,
   "metadata": {
    "ExecuteTime": {
     "end_time": "2019-05-14T12:26:00.182563Z",
     "start_time": "2019-05-14T12:25:58.822788Z"
    }
   },
   "outputs": [],
   "source": [
    "file = 'courses.csv'\n",
    "dataset_folder = '../input'\n",
    "\n",
    "df = pd.read_csv('%s/%s' % (dataset_folder, file), sep='\\t', encoding='utf-8')"
   ]
  },
  {
   "cell_type": "markdown",
   "metadata": {},
   "source": [
    "## Overview"
   ]
  },
  {
   "cell_type": "code",
   "execution_count": 5,
   "metadata": {
    "ExecuteTime": {
     "end_time": "2019-05-14T12:26:10.681346Z",
     "start_time": "2019-05-14T12:26:10.651255Z"
    }
   },
   "outputs": [
    {
     "data": {
      "text/html": [
       "<div>\n",
       "<style scoped>\n",
       "    .dataframe tbody tr th:only-of-type {\n",
       "        vertical-align: middle;\n",
       "    }\n",
       "\n",
       "    .dataframe tbody tr th {\n",
       "        vertical-align: top;\n",
       "    }\n",
       "\n",
       "    .dataframe thead th {\n",
       "        text-align: right;\n",
       "    }\n",
       "</style>\n",
       "<table border=\"1\" class=\"dataframe\">\n",
       "  <thead>\n",
       "    <tr style=\"text-align: right;\">\n",
       "      <th></th>\n",
       "      <th>id</th>\n",
       "      <th>difficulty</th>\n",
       "      <th>gameStyle</th>\n",
       "      <th>maker</th>\n",
       "      <th>title</th>\n",
       "      <th>thumbnail</th>\n",
       "      <th>image</th>\n",
       "      <th>creation</th>\n",
       "    </tr>\n",
       "  </thead>\n",
       "  <tbody>\n",
       "    <tr>\n",
       "      <th>0</th>\n",
       "      <td>079D-0000-0351-17E2</td>\n",
       "      <td>expert</td>\n",
       "      <td>marioBros3</td>\n",
       "      <td>NolramImpro</td>\n",
       "      <td>Apocalipse 14:12</td>\n",
       "      <td>https://dypqnhofrd2x2.cloudfront.net/079D-0000...</td>\n",
       "      <td>https://dypqnhofrd2x2.cloudfront.net/079D-0000...</td>\n",
       "      <td>2017-08-11 00:00:00</td>\n",
       "    </tr>\n",
       "    <tr>\n",
       "      <th>1</th>\n",
       "      <td>07CD-0000-030D-EA60</td>\n",
       "      <td>expert</td>\n",
       "      <td>marioBrosU</td>\n",
       "      <td>igorsssa</td>\n",
       "      <td>Dangerous Ship Fantasy</td>\n",
       "      <td>https://dypqnhofrd2x2.cloudfront.net/07CD-0000...</td>\n",
       "      <td>https://dypqnhofrd2x2.cloudfront.net/07CD-0000...</td>\n",
       "      <td>2017-03-11 00:00:00</td>\n",
       "    </tr>\n",
       "    <tr>\n",
       "      <th>2</th>\n",
       "      <td>07F7-0000-030F-A51B</td>\n",
       "      <td>superExpert</td>\n",
       "      <td>marioWorld</td>\n",
       "      <td>Wiggle133</td>\n",
       "      <td>Pow-Ing (Speedrun) (^o^)</td>\n",
       "      <td>https://dypqnhofrd2x2.cloudfront.net/07F7-0000...</td>\n",
       "      <td>https://dypqnhofrd2x2.cloudfront.net/07F7-0000...</td>\n",
       "      <td>2017-03-14 00:00:00</td>\n",
       "    </tr>\n",
       "  </tbody>\n",
       "</table>\n",
       "</div>"
      ],
      "text/plain": [
       "                    id   difficulty   gameStyle        maker  \\\n",
       "0  079D-0000-0351-17E2       expert  marioBros3  NolramImpro   \n",
       "1  07CD-0000-030D-EA60       expert  marioBrosU     igorsssa   \n",
       "2  07F7-0000-030F-A51B  superExpert  marioWorld    Wiggle133   \n",
       "\n",
       "                      title  \\\n",
       "0          Apocalipse 14:12   \n",
       "1    Dangerous Ship Fantasy   \n",
       "2  Pow-Ing (Speedrun) (^o^)   \n",
       "\n",
       "                                           thumbnail  \\\n",
       "0  https://dypqnhofrd2x2.cloudfront.net/079D-0000...   \n",
       "1  https://dypqnhofrd2x2.cloudfront.net/07CD-0000...   \n",
       "2  https://dypqnhofrd2x2.cloudfront.net/07F7-0000...   \n",
       "\n",
       "                                               image             creation  \n",
       "0  https://dypqnhofrd2x2.cloudfront.net/079D-0000...  2017-08-11 00:00:00  \n",
       "1  https://dypqnhofrd2x2.cloudfront.net/07CD-0000...  2017-03-11 00:00:00  \n",
       "2  https://dypqnhofrd2x2.cloudfront.net/07F7-0000...  2017-03-14 00:00:00  "
      ]
     },
     "execution_count": 5,
     "metadata": {},
     "output_type": "execute_result"
    }
   ],
   "source": [
    "df.head(3)"
   ]
  },
  {
   "cell_type": "markdown",
   "metadata": {},
   "source": [
    "### Difficulty"
   ]
  },
  {
   "cell_type": "code",
   "execution_count": 6,
   "metadata": {
    "ExecuteTime": {
     "end_time": "2019-05-14T12:26:26.558938Z",
     "start_time": "2019-05-14T12:26:26.047851Z"
    }
   },
   "outputs": [
    {
     "name": "stdout",
     "output_type": "stream",
     "text": [
      "[('expert', 27753), ('superExpert', 6233), ('normal', 51354), ('easy', 29692)]\n"
     ]
    },
    {
     "data": {
      "image/png": "[encoded data removed]",
      "text/plain": [
       "<Figure size 432x288 with 1 Axes>"
      ]
     },
     "metadata": {},
     "output_type": "display_data"
    }
   ],
   "source": [
    "# values\n",
    "labels = df['difficulty'].unique().tolist()\n",
    "values = [sum(df['difficulty'] == label) for label in labels]\n",
    "print(list(zip(labels, values)))\n",
    "\n",
    "# plot\n",
    "fig, ax = plt.subplots()\n",
    "ax.pie(values, labels=labels, autopct='%1.1f%%', shadow=True)\n",
    "ax.axis('equal')\n",
    "plt.show()"
   ]
  },
  {
   "cell_type": "markdown",
   "metadata": {},
   "source": [
    "### Game Style"
   ]
  },
  {
   "cell_type": "code",
   "execution_count": 7,
   "metadata": {
    "ExecuteTime": {
     "end_time": "2019-05-14T12:26:30.295759Z",
     "start_time": "2019-05-14T12:26:29.991585Z"
    }
   },
   "outputs": [
    {
     "name": "stdout",
     "output_type": "stream",
     "text": [
      "[('marioBros3', 9318), ('marioBrosU', 59464), ('marioWorld', 21908), ('marioBros', 24342)]\n"
     ]
    },
    {
     "data": {
      "image/png": "[encoded data removed]",
      "text/plain": [
       "<Figure size 432x288 with 1 Axes>"
      ]
     },
     "metadata": {},
     "output_type": "display_data"
    }
   ],
   "source": [
    "# values\n",
    "labels = df['gameStyle'].unique().tolist()\n",
    "values = [sum(df['gameStyle'] == label) for label in labels]\n",
    "print(list(zip(labels, values)))\n",
    "\n",
    "# plot\n",
    "fig, ax = plt.subplots()\n",
    "ax.pie(values, labels=labels, autopct='%1.1f%%', shadow=True)\n",
    "ax.axis('equal')\n",
    "plt.show()"
   ]
  },
  {
   "cell_type": "markdown",
   "metadata": {},
   "source": [
    "### Players who develop courses (makers)"
   ]
  },
  {
   "cell_type": "code",
   "execution_count": 15,
   "metadata": {
    "ExecuteTime": {
     "end_time": "2019-05-14T12:32:25.511258Z",
     "start_time": "2019-05-14T12:32:25.392922Z"
    }
   },
   "outputs": [
    {
     "name": "stdout",
     "output_type": "stream",
     "text": [
      "number of makers: 48621\n"
     ]
    }
   ],
   "source": [
    "makers = df['maker'].value_counts().to_dict()\n",
    "print('number of makers: %d' % (len(makers)))"
   ]
  },
  {
   "cell_type": "markdown",
   "metadata": {},
   "source": [
    "Who produce more courses?  \n",
    "Top-25 makers (by number of courses)  "
   ]
  },
  {
   "cell_type": "code",
   "execution_count": 14,
   "metadata": {
    "ExecuteTime": {
     "end_time": "2019-05-14T12:31:48.434452Z",
     "start_time": "2019-05-14T12:31:47.892908Z"
    }
   },
   "outputs": [
    {
     "data": {
      "image/png": "[encoded data removed]",
      "text/plain": [
       "<Figure size 432x288 with 1 Axes>"
      ]
     },
     "metadata": {},
     "output_type": "display_data"
    }
   ],
   "source": [
    "# values\n",
    "top = 25\n",
    "labels = list(makers.keys())[0:top]\n",
    "x_axis = range(len(labels))\n",
    "y_axis = list(makers.values())[0:top]\n",
    "\n",
    "# plot\n",
    "fig, ax = plt.subplots()\n",
    "plt.bar(x_axis, y_axis, align='center')\n",
    "plt.xticks(x_axis, labels, rotation=90)\n",
    "plt.show()"
   ]
  },
  {
   "cell_type": "code",
   "execution_count": null,
   "metadata": {},
   "outputs": [],
   "source": []
  }
 ],
 "metadata": {
  "kernelspec": {
   "display_name": "Python 3",
   "language": "python",
   "name": "python3"
  },
  "language_info": {
   "codemirror_mode": {
    "name": "ipython",
    "version": 3
   },
   "file_extension": ".py",
   "mimetype": "text/x-python",
   "name": "python",
   "nbconvert_exporter": "python",
   "pygments_lexer": "ipython3",
   "version": "3.6.8"
  },
  "varInspector": {
   "cols": {
    "lenName": 16,
    "lenType": 16,
    "lenVar": 40
   },
   "kernels_config": {
    "python": {
     "delete_cmd_postfix": "",
     "delete_cmd_prefix": "del ",
     "library": "var_list.py",
     "varRefreshCmd": "print(var_dic_list())"
    },
    "r": {
     "delete_cmd_postfix": ") ",
     "delete_cmd_prefix": "rm(",
     "library": "var_list.r",
     "varRefreshCmd": "cat(var_dic_list()) "
    }
   },
   "types_to_exclude": [
    "module",
    "function",
    "builtin_function_or_method",
    "instance",
    "_Feature"
   ],
   "window_display": false
  }
 },
 "nbformat": 4,
 "nbformat_minor": 2
}
