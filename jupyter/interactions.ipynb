{
 "cells": [
  {
   "cell_type": "markdown",
   "metadata": {},
   "source": [
    "# Overview: Game Maps and Players (Interactions)"
   ]
  },
  {
   "cell_type": "code",
   "execution_count": 1,
   "metadata": {
    "ExecuteTime": {
     "end_time": "2019-08-29T01:38:26.995808Z",
     "start_time": "2019-08-29T01:38:15.143494Z"
    }
   },
   "outputs": [],
   "source": [
    "# Pandas\n",
    "import numpy as np\n",
    "import pandas as pd\n",
    "# Plot\n",
    "import seaborn as sns\n",
    "import matplotlib as mpl\n",
    "import matplotlib.pyplot as plt\n",
    "\n",
    "mpl.style.use('seaborn-whitegrid')\n",
    "%matplotlib inline"
   ]
  },
  {
   "cell_type": "markdown",
   "metadata": {},
   "source": [
    "Read data"
   ]
  },
  {
   "cell_type": "code",
   "execution_count": 2,
   "metadata": {
    "ExecuteTime": {
     "end_time": "2019-08-29T01:38:44.919805Z",
     "start_time": "2019-08-29T01:38:27.000417Z"
    }
   },
   "outputs": [],
   "source": [
    "dataset_folder = '../input'\n",
    "plot_folder = '../plot'\n",
    "\n",
    "courses = pd.read_csv('%s/%s' % (dataset_folder, 'courses.csv'), sep='\\t', encoding='utf-8')\n",
    "likes   = pd.read_csv('%s/%s' % (dataset_folder, 'likes.csv'), sep='\\t', encoding='utf-8')\n",
    "plays   = pd.read_csv('%s/%s' % (dataset_folder, 'plays.csv'), sep='\\t', encoding='utf-8')\n",
    "clears  = pd.read_csv('%s/%s' % (dataset_folder, 'clears.csv'), sep='\\t', encoding='utf-8')\n",
    "records = pd.read_csv('%s/%s' % (dataset_folder, 'records.csv'), sep='\\t', encoding='utf-8')"
   ]
  },
  {
   "cell_type": "markdown",
   "metadata": {},
   "source": [
    "Create a `dict` to store the interactions."
   ]
  },
  {
   "cell_type": "code",
   "execution_count": 3,
   "metadata": {
    "ExecuteTime": {
     "end_time": "2019-08-29T01:38:45.118843Z",
     "start_time": "2019-08-29T01:38:44.923719Z"
    }
   },
   "outputs": [],
   "source": [
    "ids = courses['id'].unique().tolist()\n",
    "interactions = {id:{'likes':0, 'plays':0, 'clears':0, 'records':0} for id in ids}"
   ]
  },
  {
   "cell_type": "markdown",
   "metadata": {},
   "source": [
    "## Overview"
   ]
  },
  {
   "cell_type": "code",
   "execution_count": 4,
   "metadata": {
    "ExecuteTime": {
     "end_time": "2019-08-29T01:38:45.215344Z",
     "start_time": "2019-08-29T01:38:45.124967Z"
    }
   },
   "outputs": [
    {
     "name": "stdout",
     "output_type": "stream",
     "text": [
      "courses: 115032\n",
      "likes: 618687\n",
      "plays: 3941378\n",
      "clears: 2051809\n",
      "records: 117126\n"
     ]
    }
   ],
   "source": [
    "names = ['courses','likes','plays','clears','records']\n",
    "for df, name in zip([courses,likes,plays,clears,records], names):\n",
    "    print('%s:' % (name), len(df))"
   ]
  },
  {
   "cell_type": "markdown",
   "metadata": {},
   "source": [
    "### Likes"
   ]
  },
  {
   "cell_type": "code",
   "execution_count": 5,
   "metadata": {
    "ExecuteTime": {
     "end_time": "2019-08-29T01:38:45.430340Z",
     "start_time": "2019-08-29T01:38:45.218952Z"
    }
   },
   "outputs": [
    {
     "data": {
      "text/html": [
       "<div>\n",
       "<style scoped>\n",
       "    .dataframe tbody tr th:only-of-type {\n",
       "        vertical-align: middle;\n",
       "    }\n",
       "\n",
       "    .dataframe tbody tr th {\n",
       "        vertical-align: top;\n",
       "    }\n",
       "\n",
       "    .dataframe thead th {\n",
       "        text-align: right;\n",
       "    }\n",
       "</style>\n",
       "<table border=\"1\" class=\"dataframe\">\n",
       "  <thead>\n",
       "    <tr style=\"text-align: right;\">\n",
       "      <th></th>\n",
       "      <th>catch</th>\n",
       "      <th>id</th>\n",
       "      <th>player</th>\n",
       "    </tr>\n",
       "  </thead>\n",
       "  <tbody>\n",
       "    <tr>\n",
       "      <th>0</th>\n",
       "      <td>2018-02-23 15:22:44.015</td>\n",
       "      <td>0000-0000-0353-3D35</td>\n",
       "      <td>groebenzell</td>\n",
       "    </tr>\n",
       "    <tr>\n",
       "      <th>1</th>\n",
       "      <td>2018-03-02 09:46:27.847</td>\n",
       "      <td>0000-0000-035A-9F14</td>\n",
       "      <td>jlan6e</td>\n",
       "    </tr>\n",
       "    <tr>\n",
       "      <th>2</th>\n",
       "      <td>2017-12-18 14:47:47.489</td>\n",
       "      <td>0001-0000-0347-486A</td>\n",
       "      <td>cat38690</td>\n",
       "    </tr>\n",
       "    <tr>\n",
       "      <th>3</th>\n",
       "      <td>2017-12-18 14:47:47.489</td>\n",
       "      <td>0001-0000-0347-486A</td>\n",
       "      <td>raulcaba</td>\n",
       "    </tr>\n",
       "    <tr>\n",
       "      <th>4</th>\n",
       "      <td>2017-12-18 14:47:48.878</td>\n",
       "      <td>0001-0000-0359-B3CD</td>\n",
       "      <td>Tugaeddy</td>\n",
       "    </tr>\n",
       "  </tbody>\n",
       "</table>\n",
       "</div>"
      ],
      "text/plain": [
       "                     catch                   id       player\n",
       "0  2018-02-23 15:22:44.015  0000-0000-0353-3D35  groebenzell\n",
       "1  2018-03-02 09:46:27.847  0000-0000-035A-9F14       jlan6e\n",
       "2  2017-12-18 14:47:47.489  0001-0000-0347-486A     cat38690\n",
       "3  2017-12-18 14:47:47.489  0001-0000-0347-486A     raulcaba\n",
       "4  2017-12-18 14:47:48.878  0001-0000-0359-B3CD     Tugaeddy"
      ]
     },
     "execution_count": 5,
     "metadata": {},
     "output_type": "execute_result"
    }
   ],
   "source": [
    "likes.head()"
   ]
  },
  {
   "cell_type": "code",
   "execution_count": 6,
   "metadata": {
    "ExecuteTime": {
     "end_time": "2019-08-29T01:38:45.894281Z",
     "start_time": "2019-08-29T01:38:45.435667Z"
    }
   },
   "outputs": [],
   "source": [
    "# count number of likes per map\n",
    "likes_per_course = likes['id'].value_counts().to_dict()"
   ]
  },
  {
   "cell_type": "code",
   "execution_count": 7,
   "metadata": {
    "ExecuteTime": {
     "end_time": "2019-08-29T01:38:46.005976Z",
     "start_time": "2019-08-29T01:38:45.898971Z"
    }
   },
   "outputs": [],
   "source": [
    "for id, values in likes_per_course.items():\n",
    "    interactions[id]['likes'] = values"
   ]
  },
  {
   "cell_type": "markdown",
   "metadata": {},
   "source": [
    "### Plays"
   ]
  },
  {
   "cell_type": "code",
   "execution_count": 8,
   "metadata": {
    "ExecuteTime": {
     "end_time": "2019-08-29T01:38:46.092732Z",
     "start_time": "2019-08-29T01:38:46.012035Z"
    }
   },
   "outputs": [
    {
     "data": {
      "text/html": [
       "<div>\n",
       "<style scoped>\n",
       "    .dataframe tbody tr th:only-of-type {\n",
       "        vertical-align: middle;\n",
       "    }\n",
       "\n",
       "    .dataframe tbody tr th {\n",
       "        vertical-align: top;\n",
       "    }\n",
       "\n",
       "    .dataframe thead th {\n",
       "        text-align: right;\n",
       "    }\n",
       "</style>\n",
       "<table border=\"1\" class=\"dataframe\">\n",
       "  <thead>\n",
       "    <tr style=\"text-align: right;\">\n",
       "      <th></th>\n",
       "      <th>catch</th>\n",
       "      <th>id</th>\n",
       "      <th>player</th>\n",
       "    </tr>\n",
       "  </thead>\n",
       "  <tbody>\n",
       "    <tr>\n",
       "      <th>0</th>\n",
       "      <td>2018-02-23 15:22:44.015</td>\n",
       "      <td>0000-0000-0353-3D35</td>\n",
       "      <td>darter60k</td>\n",
       "    </tr>\n",
       "    <tr>\n",
       "      <th>1</th>\n",
       "      <td>2018-02-23 15:22:44.015</td>\n",
       "      <td>0000-0000-0353-3D35</td>\n",
       "      <td>davidchofis</td>\n",
       "    </tr>\n",
       "    <tr>\n",
       "      <th>2</th>\n",
       "      <td>2018-02-23 15:22:44.015</td>\n",
       "      <td>0000-0000-0353-3D35</td>\n",
       "      <td>fabioviana</td>\n",
       "    </tr>\n",
       "    <tr>\n",
       "      <th>3</th>\n",
       "      <td>2018-02-23 15:22:44.015</td>\n",
       "      <td>0000-0000-0353-3D35</td>\n",
       "      <td>gorigokky</td>\n",
       "    </tr>\n",
       "    <tr>\n",
       "      <th>4</th>\n",
       "      <td>2018-02-23 15:22:44.015</td>\n",
       "      <td>0000-0000-0353-3D35</td>\n",
       "      <td>groebenzell</td>\n",
       "    </tr>\n",
       "  </tbody>\n",
       "</table>\n",
       "</div>"
      ],
      "text/plain": [
       "                     catch                   id       player\n",
       "0  2018-02-23 15:22:44.015  0000-0000-0353-3D35    darter60k\n",
       "1  2018-02-23 15:22:44.015  0000-0000-0353-3D35  davidchofis\n",
       "2  2018-02-23 15:22:44.015  0000-0000-0353-3D35   fabioviana\n",
       "3  2018-02-23 15:22:44.015  0000-0000-0353-3D35    gorigokky\n",
       "4  2018-02-23 15:22:44.015  0000-0000-0353-3D35  groebenzell"
      ]
     },
     "execution_count": 8,
     "metadata": {},
     "output_type": "execute_result"
    }
   ],
   "source": [
    "plays.head()"
   ]
  },
  {
   "cell_type": "code",
   "execution_count": 9,
   "metadata": {
    "ExecuteTime": {
     "end_time": "2019-08-29T01:38:47.090175Z",
     "start_time": "2019-08-29T01:38:46.096729Z"
    }
   },
   "outputs": [],
   "source": [
    "# count number of plays per map\n",
    "plays_per_course = plays['id'].value_counts().to_dict()"
   ]
  },
  {
   "cell_type": "code",
   "execution_count": 10,
   "metadata": {
    "ExecuteTime": {
     "end_time": "2019-08-29T01:38:47.201265Z",
     "start_time": "2019-08-29T01:38:47.093369Z"
    }
   },
   "outputs": [],
   "source": [
    "for id, values in plays_per_course.items():\n",
    "    interactions[id]['plays'] = values"
   ]
  },
  {
   "cell_type": "markdown",
   "metadata": {},
   "source": [
    "### Clears"
   ]
  },
  {
   "cell_type": "code",
   "execution_count": 11,
   "metadata": {
    "ExecuteTime": {
     "end_time": "2019-08-29T01:38:47.293048Z",
     "start_time": "2019-08-29T01:38:47.204112Z"
    }
   },
   "outputs": [
    {
     "data": {
      "text/html": [
       "<div>\n",
       "<style scoped>\n",
       "    .dataframe tbody tr th:only-of-type {\n",
       "        vertical-align: middle;\n",
       "    }\n",
       "\n",
       "    .dataframe tbody tr th {\n",
       "        vertical-align: top;\n",
       "    }\n",
       "\n",
       "    .dataframe thead th {\n",
       "        text-align: right;\n",
       "    }\n",
       "</style>\n",
       "<table border=\"1\" class=\"dataframe\">\n",
       "  <thead>\n",
       "    <tr style=\"text-align: right;\">\n",
       "      <th></th>\n",
       "      <th>catch</th>\n",
       "      <th>id</th>\n",
       "      <th>player</th>\n",
       "    </tr>\n",
       "  </thead>\n",
       "  <tbody>\n",
       "    <tr>\n",
       "      <th>0</th>\n",
       "      <td>2018-02-23 15:22:44.015</td>\n",
       "      <td>0000-0000-0353-3D35</td>\n",
       "      <td>darter60k</td>\n",
       "    </tr>\n",
       "    <tr>\n",
       "      <th>1</th>\n",
       "      <td>2018-02-23 15:22:44.015</td>\n",
       "      <td>0000-0000-0353-3D35</td>\n",
       "      <td>davidchofis</td>\n",
       "    </tr>\n",
       "    <tr>\n",
       "      <th>2</th>\n",
       "      <td>2018-02-23 15:22:44.015</td>\n",
       "      <td>0000-0000-0353-3D35</td>\n",
       "      <td>fabioviana</td>\n",
       "    </tr>\n",
       "    <tr>\n",
       "      <th>3</th>\n",
       "      <td>2018-02-23 15:22:44.015</td>\n",
       "      <td>0000-0000-0353-3D35</td>\n",
       "      <td>groebenzell</td>\n",
       "    </tr>\n",
       "    <tr>\n",
       "      <th>4</th>\n",
       "      <td>2018-02-23 15:22:44.015</td>\n",
       "      <td>0000-0000-0353-3D35</td>\n",
       "      <td>igatake0229</td>\n",
       "    </tr>\n",
       "  </tbody>\n",
       "</table>\n",
       "</div>"
      ],
      "text/plain": [
       "                     catch                   id       player\n",
       "0  2018-02-23 15:22:44.015  0000-0000-0353-3D35    darter60k\n",
       "1  2018-02-23 15:22:44.015  0000-0000-0353-3D35  davidchofis\n",
       "2  2018-02-23 15:22:44.015  0000-0000-0353-3D35   fabioviana\n",
       "3  2018-02-23 15:22:44.015  0000-0000-0353-3D35  groebenzell\n",
       "4  2018-02-23 15:22:44.015  0000-0000-0353-3D35  igatake0229"
      ]
     },
     "execution_count": 11,
     "metadata": {},
     "output_type": "execute_result"
    }
   ],
   "source": [
    "clears.head()"
   ]
  },
  {
   "cell_type": "code",
   "execution_count": 12,
   "metadata": {
    "ExecuteTime": {
     "end_time": "2019-08-29T01:38:48.036617Z",
     "start_time": "2019-08-29T01:38:47.297284Z"
    }
   },
   "outputs": [],
   "source": [
    "# count number of clears per map\n",
    "clears_per_course = clears['id'].value_counts().to_dict()"
   ]
  },
  {
   "cell_type": "code",
   "execution_count": 13,
   "metadata": {
    "ExecuteTime": {
     "end_time": "2019-08-29T01:38:48.207301Z",
     "start_time": "2019-08-29T01:38:48.042308Z"
    }
   },
   "outputs": [],
   "source": [
    "for id, values in clears_per_course.items():\n",
    "    interactions[id]['clears'] = values"
   ]
  },
  {
   "cell_type": "markdown",
   "metadata": {},
   "source": [
    "### Records"
   ]
  },
  {
   "cell_type": "code",
   "execution_count": 14,
   "metadata": {
    "ExecuteTime": {
     "end_time": "2019-08-29T01:38:48.243306Z",
     "start_time": "2019-08-29T01:38:48.212410Z"
    }
   },
   "outputs": [
    {
     "data": {
      "text/html": [
       "<div>\n",
       "<style scoped>\n",
       "    .dataframe tbody tr th:only-of-type {\n",
       "        vertical-align: middle;\n",
       "    }\n",
       "\n",
       "    .dataframe tbody tr th {\n",
       "        vertical-align: top;\n",
       "    }\n",
       "\n",
       "    .dataframe thead th {\n",
       "        text-align: right;\n",
       "    }\n",
       "</style>\n",
       "<table border=\"1\" class=\"dataframe\">\n",
       "  <thead>\n",
       "    <tr style=\"text-align: right;\">\n",
       "      <th></th>\n",
       "      <th>catch</th>\n",
       "      <th>id</th>\n",
       "      <th>player</th>\n",
       "      <th>timeRecord</th>\n",
       "    </tr>\n",
       "  </thead>\n",
       "  <tbody>\n",
       "    <tr>\n",
       "      <th>0</th>\n",
       "      <td>2017-12-18 15:35:29.015</td>\n",
       "      <td>F68A-0000-0337-AF4F</td>\n",
       "      <td>The_Brucican</td>\n",
       "      <td>15482</td>\n",
       "    </tr>\n",
       "    <tr>\n",
       "      <th>1</th>\n",
       "      <td>2018-03-02 10:09:32.392</td>\n",
       "      <td>9669-0000-0330-554C</td>\n",
       "      <td>inoino2226</td>\n",
       "      <td>9265</td>\n",
       "    </tr>\n",
       "    <tr>\n",
       "      <th>2</th>\n",
       "      <td>2017-12-18 15:47:40.665</td>\n",
       "      <td>0D1D-0000-0355-DA7A</td>\n",
       "      <td>hbeeboy</td>\n",
       "      <td>6692</td>\n",
       "    </tr>\n",
       "    <tr>\n",
       "      <th>3</th>\n",
       "      <td>2018-02-23 15:02:20.557</td>\n",
       "      <td>18E3-0000-032A-27AB</td>\n",
       "      <td>Khazey</td>\n",
       "      <td>40383</td>\n",
       "    </tr>\n",
       "    <tr>\n",
       "      <th>4</th>\n",
       "      <td>2018-02-23 15:05:16.414</td>\n",
       "      <td>2C55-0000-0300-854A</td>\n",
       "      <td>okayan3378</td>\n",
       "      <td>1533</td>\n",
       "    </tr>\n",
       "  </tbody>\n",
       "</table>\n",
       "</div>"
      ],
      "text/plain": [
       "                     catch                   id        player  timeRecord\n",
       "0  2017-12-18 15:35:29.015  F68A-0000-0337-AF4F  The_Brucican       15482\n",
       "1  2018-03-02 10:09:32.392  9669-0000-0330-554C    inoino2226        9265\n",
       "2  2017-12-18 15:47:40.665  0D1D-0000-0355-DA7A       hbeeboy        6692\n",
       "3  2018-02-23 15:02:20.557  18E3-0000-032A-27AB        Khazey       40383\n",
       "4  2018-02-23 15:05:16.414  2C55-0000-0300-854A    okayan3378        1533"
      ]
     },
     "execution_count": 14,
     "metadata": {},
     "output_type": "execute_result"
    }
   ],
   "source": [
    "records.head()"
   ]
  },
  {
   "cell_type": "code",
   "execution_count": 15,
   "metadata": {
    "ExecuteTime": {
     "end_time": "2019-08-29T01:38:48.655195Z",
     "start_time": "2019-08-29T01:38:48.253610Z"
    }
   },
   "outputs": [],
   "source": [
    "# count number of records per map\n",
    "records_per_course = records['id'].value_counts().to_dict()"
   ]
  },
  {
   "cell_type": "code",
   "execution_count": 16,
   "metadata": {
    "ExecuteTime": {
     "end_time": "2019-08-29T01:38:48.808864Z",
     "start_time": "2019-08-29T01:38:48.659687Z"
    }
   },
   "outputs": [],
   "source": [
    "for id, values in records_per_course.items():\n",
    "    interactions[id]['records'] = values"
   ]
  },
  {
   "cell_type": "markdown",
   "metadata": {},
   "source": [
    "### Plot"
   ]
  },
  {
   "cell_type": "code",
   "execution_count": 17,
   "metadata": {
    "ExecuteTime": {
     "end_time": "2019-08-29T01:38:49.326813Z",
     "start_time": "2019-08-29T01:38:48.813941Z"
    }
   },
   "outputs": [
    {
     "data": {
      "image/png": "[encoded data removed]",
      "text/plain": [
       "<Figure size 288x72 with 1 Axes>"
      ]
     },
     "metadata": {},
     "output_type": "display_data"
    }
   ],
   "source": [
    "# palette of colors\n",
    "palette = sns.color_palette('cubehelix', 4)\n",
    "sns.palplot(palette)"
   ]
  },
  {
   "cell_type": "code",
   "execution_count": 18,
   "metadata": {
    "ExecuteTime": {
     "end_time": "2019-08-29T01:39:01.615435Z",
     "start_time": "2019-08-29T01:38:49.331230Z"
    }
   },
   "outputs": [],
   "source": [
    "# data sorted\n",
    "df = pd.DataFrame(interactions).transpose()\n",
    "df['sum'] = df['likes'] + df['plays'] + df['clears'] + df['records']\n",
    "df = df.sort_values(by=['sum'], ascending=False)"
   ]
  },
  {
   "cell_type": "code",
   "execution_count": 19,
   "metadata": {
    "ExecuteTime": {
     "end_time": "2019-08-29T01:39:01.635019Z",
     "start_time": "2019-08-29T01:39:01.618705Z"
    }
   },
   "outputs": [
    {
     "data": {
      "text/html": [
       "<div>\n",
       "<style scoped>\n",
       "    .dataframe tbody tr th:only-of-type {\n",
       "        vertical-align: middle;\n",
       "    }\n",
       "\n",
       "    .dataframe tbody tr th {\n",
       "        vertical-align: top;\n",
       "    }\n",
       "\n",
       "    .dataframe thead th {\n",
       "        text-align: right;\n",
       "    }\n",
       "</style>\n",
       "<table border=\"1\" class=\"dataframe\">\n",
       "  <thead>\n",
       "    <tr style=\"text-align: right;\">\n",
       "      <th></th>\n",
       "      <th>clears</th>\n",
       "      <th>likes</th>\n",
       "      <th>plays</th>\n",
       "      <th>records</th>\n",
       "      <th>sum</th>\n",
       "    </tr>\n",
       "  </thead>\n",
       "  <tbody>\n",
       "    <tr>\n",
       "      <th>5AB9-0000-038F-A23E</th>\n",
       "      <td>1475</td>\n",
       "      <td>316</td>\n",
       "      <td>1673</td>\n",
       "      <td>2</td>\n",
       "      <td>3466</td>\n",
       "    </tr>\n",
       "    <tr>\n",
       "      <th>DE4D-0000-035D-3AE1</th>\n",
       "      <td>612</td>\n",
       "      <td>462</td>\n",
       "      <td>1089</td>\n",
       "      <td>1</td>\n",
       "      <td>2164</td>\n",
       "    </tr>\n",
       "    <tr>\n",
       "      <th>8F40-0000-0391-4B50</th>\n",
       "      <td>851</td>\n",
       "      <td>185</td>\n",
       "      <td>1014</td>\n",
       "      <td>1</td>\n",
       "      <td>2051</td>\n",
       "    </tr>\n",
       "    <tr>\n",
       "      <th>CE94-0000-038F-7559</th>\n",
       "      <td>737</td>\n",
       "      <td>193</td>\n",
       "      <td>997</td>\n",
       "      <td>1</td>\n",
       "      <td>1928</td>\n",
       "    </tr>\n",
       "    <tr>\n",
       "      <th>BAC8-0000-036A-7EE1</th>\n",
       "      <td>622</td>\n",
       "      <td>322</td>\n",
       "      <td>937</td>\n",
       "      <td>1</td>\n",
       "      <td>1882</td>\n",
       "    </tr>\n",
       "  </tbody>\n",
       "</table>\n",
       "</div>"
      ],
      "text/plain": [
       "                     clears  likes  plays  records   sum\n",
       "5AB9-0000-038F-A23E    1475    316   1673        2  3466\n",
       "DE4D-0000-035D-3AE1     612    462   1089        1  2164\n",
       "8F40-0000-0391-4B50     851    185   1014        1  2051\n",
       "CE94-0000-038F-7559     737    193    997        1  1928\n",
       "BAC8-0000-036A-7EE1     622    322    937        1  1882"
      ]
     },
     "execution_count": 19,
     "metadata": {},
     "output_type": "execute_result"
    }
   ],
   "source": [
    "df.head()"
   ]
  },
  {
   "cell_type": "code",
   "execution_count": 20,
   "metadata": {
    "ExecuteTime": {
     "end_time": "2019-08-29T01:39:01.849904Z",
     "start_time": "2019-08-29T01:39:01.638932Z"
    }
   },
   "outputs": [],
   "source": [
    "# settings\n",
    "limit = 100\n",
    "fontsize = 14\n",
    "\n",
    "# getting axis\n",
    "axis_id = df.index.tolist()[0:limit]\n",
    "axis_plays = df['plays'].tolist()[0:limit]\n",
    "axis_clears = df['clears'].tolist()[0:limit]\n",
    "axis_records = df['records'].tolist()[0:limit]\n",
    "axis_likes = df['likes'].tolist()[0:limit]"
   ]
  },
  {
   "cell_type": "code",
   "execution_count": 21,
   "metadata": {
    "ExecuteTime": {
     "end_time": "2019-08-29T01:39:04.986860Z",
     "start_time": "2019-08-29T01:39:01.855390Z"
    }
   },
   "outputs": [
    {
     "data": {
      "image/png": "[encoded data removed]",
      "text/plain": [
       "<Figure size 432x216 with 1 Axes>"
      ]
     },
     "metadata": {},
     "output_type": "display_data"
    }
   ],
   "source": [
    "# plot\n",
    "fig, ax = plt.subplots()\n",
    "bottom_records  = [axis_plays[i] + axis_clears[i] for i in range(0, limit)]\n",
    "bottom_likes    = [bottom_records[i] + axis_records[i] for i in range(0, limit)]\n",
    "\n",
    "# bar plot\n",
    "p1 = plt.bar(range(0, limit), axis_plays, color=palette[0], label='Plays')\n",
    "p2 = plt.bar(range(0, limit), axis_clears, bottom=axis_plays, color=palette[1], label='Clears')\n",
    "p3 = plt.bar(range(0, limit), axis_records, bottom=bottom_records, color=palette[2], label='Records')\n",
    "p4 = plt.bar(range(0, limit), axis_likes, bottom=bottom_likes, color=palette[3], label='Likes')\n",
    "\n",
    "# texts and labels\n",
    "plt.ylabel('Players Interactions', fontsize=fontsize)\n",
    "plt.xlabel('Game Levels', fontsize=fontsize)\n",
    "ax.legend(prop={'size':fontsize-2})\n",
    "\n",
    "# ticks\n",
    "fig.set_size_inches(6, 3, forward=True)\n",
    "plt.xlim(-1, 100)\n",
    "plt.savefig('%s/%s.pdf' % (plot_folder, 'interactions'), dpi=300)\n",
    "plt.show()"
   ]
  },
  {
   "cell_type": "markdown",
   "metadata": {},
   "source": [
    "## Power law test  (Clauset et al. 2009)\n",
    "\n",
    "https://arxiv.org/pdf/0706.1062.pdf"
   ]
  },
  {
   "cell_type": "code",
   "execution_count": 22,
   "metadata": {
    "ExecuteTime": {
     "end_time": "2019-08-29T01:39:05.092447Z",
     "start_time": "2019-08-29T01:39:04.990479Z"
    }
   },
   "outputs": [],
   "source": [
    "import powerlaw\n",
    "from scipy import stats\n",
    "# -- ignore warning\n",
    "import warnings\n",
    "warnings.simplefilter(action='ignore', category=RuntimeWarning)"
   ]
  },
  {
   "cell_type": "code",
   "execution_count": 23,
   "metadata": {
    "ExecuteTime": {
     "end_time": "2019-08-29T01:40:12.771024Z",
     "start_time": "2019-08-29T01:39:05.096414Z"
    }
   },
   "outputs": [
    {
     "name": "stderr",
     "output_type": "stream",
     "text": [
      "Calculating best minimal value for power law fit\n"
     ]
    }
   ],
   "source": [
    "data = df['sum']\n",
    "fit = powerlaw.Fit(data, discrete=True, estimate_discrete=False)"
   ]
  },
  {
   "cell_type": "markdown",
   "metadata": {},
   "source": [
    "Plot"
   ]
  },
  {
   "cell_type": "code",
   "execution_count": 24,
   "metadata": {
    "ExecuteTime": {
     "end_time": "2019-08-29T01:40:17.255379Z",
     "start_time": "2019-08-29T01:40:12.773423Z"
    }
   },
   "outputs": [
    {
     "data": {
      "image/png": "[encoded data removed]",
      "text/plain": [
       "<Figure size 432x216 with 1 Axes>"
      ]
     },
     "metadata": {},
     "output_type": "display_data"
    }
   ],
   "source": [
    "# plot\n",
    "fig, ax = plt.subplots()\n",
    "fig_powerlaw = fit.plot_pdf(linewidth=3, color=palette[0], label='Empirical data')\n",
    "fit.power_law.plot_pdf(ax=fig_powerlaw, color=palette[1], linestyle='--', label='Power law fit')\n",
    "fit.lognormal.plot_pdf(ax=fig_powerlaw, color=palette[2], linestyle='--', label='Log-normal fit')\n",
    "\n",
    "# texts and labels\n",
    "plt.ylabel('$P(x)$', fontsize=fontsize)\n",
    "plt.xlabel('x', fontsize=fontsize)\n",
    "ax.legend(prop={'size':fontsize-2})\n",
    "\n",
    "# ticks\n",
    "fig.set_size_inches(6, 3, forward=True)\n",
    "plt.savefig('%s/%s.pdf' % (plot_folder, 'interactions-powerlaw-PDF'), dpi=300)\n",
    "plt.show()"
   ]
  },
  {
   "cell_type": "code",
   "execution_count": 25,
   "metadata": {
    "ExecuteTime": {
     "end_time": "2019-08-29T01:40:18.454711Z",
     "start_time": "2019-08-29T01:40:17.268111Z"
    }
   },
   "outputs": [
    {
     "data": {
      "image/png": "[encoded data removed]",
      "text/plain": [
       "<Figure size 432x216 with 1 Axes>"
      ]
     },
     "metadata": {},
     "output_type": "display_data"
    }
   ],
   "source": [
    "# plot\n",
    "fig, ax = plt.subplots()\n",
    "fig_powerlaw = fit.plot_cdf(linewidth=3, color=palette[0], label='Empirical data')\n",
    "fit.power_law.plot_cdf(ax=fig_powerlaw, color=palette[1], linestyle='--', label='Power law fit')\n",
    "fit.lognormal.plot_cdf(ax=fig_powerlaw, color=palette[2], linestyle='--', label='Log-normal fit')\n",
    "\n",
    "# texts and labels\n",
    "plt.ylabel('$P(x)$', fontsize=fontsize)\n",
    "plt.xlabel('x', fontsize=fontsize)\n",
    "ax.legend(prop={'size':fontsize-2})\n",
    "\n",
    "# ticks\n",
    "fig.set_size_inches(6, 3, forward=True)\n",
    "plt.savefig('%s/%s.pdf' % (plot_folder, 'interactions-powerlaw-CDF'), dpi=300)\n",
    "plt.show()"
   ]
  },
  {
   "cell_type": "code",
   "execution_count": 26,
   "metadata": {
    "ExecuteTime": {
     "end_time": "2019-08-29T01:40:19.710296Z",
     "start_time": "2019-08-29T01:40:18.458686Z"
    }
   },
   "outputs": [
    {
     "data": {
      "image/png": "[encoded data removed]",
      "text/plain": [
       "<Figure size 432x216 with 1 Axes>"
      ]
     },
     "metadata": {},
     "output_type": "display_data"
    }
   ],
   "source": [
    "# plot\n",
    "fig, ax = plt.subplots()\n",
    "fig_powerlaw = fit.plot_ccdf(linewidth=3, color=palette[0], label='Empirical data')\n",
    "fit.power_law.plot_ccdf(ax=fig_powerlaw, color=palette[1], linestyle='--', label='Power law fit')\n",
    "fit.lognormal.plot_ccdf(ax=fig_powerlaw, color=palette[2], linestyle='--', label='Log-normal fit')\n",
    "\n",
    "# texts and labels\n",
    "plt.ylabel('$P(x)$', fontsize=fontsize)\n",
    "plt.xlabel('x', fontsize=fontsize)\n",
    "ax.legend(prop={'size':fontsize-2})\n",
    "\n",
    "# ticks\n",
    "fig.set_size_inches(6, 3, forward=True)\n",
    "plt.savefig('%s/%s.pdf' % (plot_folder, 'interactions-powerlaw-CCDF'), dpi=300)\n",
    "plt.show()"
   ]
  },
  {
   "cell_type": "markdown",
   "metadata": {},
   "source": [
    "## Kolmogorov-smirnov (test)\n",
    "\n",
    "Testing with many distributions.  \n",
    "\n",
    "-   `D`: Close to 0 (better), drawn from the same distribution.\n",
    "-   `p`: significance level, high is better."
   ]
  },
  {
   "cell_type": "code",
   "execution_count": 27,
   "metadata": {
    "ExecuteTime": {
     "end_time": "2019-08-29T01:40:19.817598Z",
     "start_time": "2019-08-29T01:40:19.714789Z"
    }
   },
   "outputs": [],
   "source": [
    "cdfs = [\n",
    "    \"norm\",            #Normal (Gaussian)\n",
    "    \"alpha\",           #Alpha\n",
    "    \"anglit\",          #Anglit\n",
    "    \"arcsine\",         #Arcsine\n",
    "    \"beta\",            #Beta\n",
    "    \"betaprime\",       #Beta Prime\n",
    "    \"bradford\",        #Bradford\n",
    "    \"burr\",            #Burr\n",
    "    \"cauchy\",          #Cauchy\n",
    "    \"chi\",             #Chi\n",
    "    \"chi2\",            #Chi-squared\n",
    "    \"cosine\",          #Cosine\n",
    "    \"dgamma\",          #Double Gamma\n",
    "    \"dweibull\",        #Double Weibull\n",
    "    \"erlang\",          #Erlang\n",
    "    \"expon\",           #Exponential\n",
    "    \"exponweib\",       #Exponentiated Weibull\n",
    "    \"exponpow\",        #Exponential Power\n",
    "    \"fatiguelife\",     #Fatigue Life (Birnbaum-Sanders)\n",
    "    \"foldcauchy\",      #Folded Cauchy\n",
    "    \"f\",               #F (Snecdor F)\n",
    "    \"fisk\",            #Fisk\n",
    "    \"foldnorm\",        #Folded Normal\n",
    "    \"gamma\",           #Gamma\n",
    "    \n",
    "#     \"gausshyper\",      #Gauss Hypergeometric\n",
    "    \n",
    "    \"genexpon\",        #Generalized Exponential\n",
    "    \"genextreme\",      #Generalized Extreme Value\n",
    "    \"gengamma\",        #Generalized gamma\n",
    "    \"genlogistic\",     #Generalized Logistic\n",
    "    \"genpareto\",       #Generalized Pareto\n",
    "    \"genhalflogistic\", #Generalized Half Logistic\n",
    "    \"gilbrat\",         #Gilbrat\n",
    "    \"gompertz\",        #Gompertz (Truncated Gumbel)\n",
    "    \"gumbel_l\",        #Left Sided Gumbel, etc.\n",
    "    \"gumbel_r\",        #Right Sided Gumbel\n",
    "    \"halfcauchy\",      #Half Cauchy\n",
    "    \"halflogistic\",    #Half Logistic\n",
    "    \"halfnorm\",        #Half Normal\n",
    "    \"hypsecant\",       #Hyperbolic Secant\n",
    "    \"invgamma\",        #Inverse Gamma\n",
    "    \"invweibull\",      #Inverse Weibull\n",
    "    \"johnsonsb\",       #Johnson SB\n",
    "    \"johnsonsu\",       #Johnson SU\n",
    "    \"laplace\",         #Laplace\n",
    "    \"logistic\",        #Logistic\n",
    "    \"loggamma\",        #Log-Gamma\n",
    "    \"loglaplace\",      #Log-Laplace (Log Double Exponential)\n",
    "    \"lognorm\",         #Log-Normal\n",
    "    \"lomax\",           #Lomax (Pareto of the second kind)\n",
    "    \"maxwell\",         #Maxwell\n",
    "    \"mielke\",          #Mielke's Beta-Kappa\n",
    "    \"nakagami\",        #Nakagami\n",
    "    \n",
    "#     \"ncx2\",            #Non-central chi-squared\n",
    "#     \"ncf\",             #Non-central F\n",
    "#     \"nct\",             #Non-central Student's T\n",
    "    \n",
    "    \"pareto\",          #Pareto\n",
    "    \"powerlaw\",        #Power-function\n",
    "    \"powerlognorm\",    #Power log normal\n",
    "    \"powernorm\",       #Power normal\n",
    "    \"rdist\",           #R distribution\n",
    "    \"reciprocal\",      #Reciprocal\n",
    "    \"rayleigh\",        #Rayleigh\n",
    "    \"rice\",            #Rice\n",
    "    \"recipinvgauss\",   #Reciprocal Inverse Gaussian\n",
    "    \"semicircular\",    #Semicircular\n",
    "    \"t\",               #Student's T\n",
    "    \"triang\",          #Triangular\n",
    "    \"truncexpon\",      #Truncated Exponential\n",
    "    \"truncnorm\",       #Truncated Normal\n",
    "    \n",
    "#     \"tukeylambda\",     #Tukey-Lambda\n",
    "    \n",
    "    \"uniform\",         #Uniform\n",
    "    \"vonmises\",        #Von-Mises (Circular)\n",
    "    \"wald\",            #Wald\n",
    "    \"weibull_min\",     #Minimum Weibull (see Frechet)\n",
    "    \"weibull_max\",     #Maximum Weibull (see Frechet)\n",
    "    \"wrapcauchy\",      #Wrapped Cauchy\n",
    "    \n",
    "#     \"ksone\",           #Kolmogorov-Smirnov one-sided (no stats)\n",
    "#     \"kstwobign\"        #Kolmogorov-Smirnov two-sided test for Large N\n",
    "    ]"
   ]
  },
  {
   "cell_type": "code",
   "execution_count": 28,
   "metadata": {
    "ExecuteTime": {
     "end_time": "2019-08-29T01:49:29.802605Z",
     "start_time": "2019-08-29T01:40:19.821156Z"
    }
   },
   "outputs": [
    {
     "name": "stdout",
     "output_type": "stream",
     "text": [
      "p = 0.0000000000000000000000000, D = 0.225137 (norm)\n",
      "p = 0.0000000000000000000000000, D = 0.019492 (alpha)\n",
      "p = 0.0000000000000000000000000, D = 0.633033 (anglit)\n",
      "p = 0.0000000000000000000000000, D = 0.823739 (arcsine)\n",
      "p = 0.0000000000000000000000000, D = 0.104561 (beta)\n",
      "p = 0.0000000000000000000000000, D = 0.027233 (betaprime)\n",
      "p = 0.0000000000000000000000000, D = 0.874397 (bradford)\n",
      "p = 0.0000000000000000001733231, D = 0.013812 (burr)\n",
      "p = 0.0000000000000000000000000, D = 0.155465 (cauchy)\n",
      "p = 0.0000000000000000000000000, D = 0.197631 (chi)\n",
      "p = 0.0000000000000000000000000, D = 0.109354 (chi2)\n",
      "p = 0.0000000000000000000000000, D = 0.568812 (cosine)\n",
      "p = 0.0000000000000000000000000, D = 0.191810 (dgamma)\n",
      "p = 0.0000000000000000000000000, D = 0.171159 (dweibull)\n",
      "p = 0.0000000000000000000000000, D = 0.106528 (erlang)\n",
      "p = 0.0000000000000000000000000, D = 0.176393 (expon)\n",
      "p = 0.0000000000000000000000000, D = 0.023234 (exponweib)\n",
      "p = 0.0000000000000000000000000, D = 0.239962 (exponpow)\n",
      "p = 0.0000000000000000000000000, D = 0.072190 (fatiguelife)\n",
      "p = 0.0000000000000000000000000, D = 0.073468 (foldcauchy)\n",
      "p = 0.0000000000000000000000000, D = 0.018668 (f)\n",
      "p = 0.0000000000000000000000000, D = 0.026962 (fisk)\n",
      "p = 0.0000000000000000000000000, D = 0.291089 (foldnorm)\n",
      "p = 0.0000000000000000000000000, D = 0.153081 (gamma)\n",
      "p = 0.0000000000000000000000000, D = 0.088670 (genexpon)\n",
      "p = 0.0000000000000000000274883, D = 0.014099 (genextreme)\n",
      "p = 0.0000000000000000000000000, D = 0.059055 (gengamma)\n",
      "p = 0.0000000000000000000000000, D = 0.112517 (genlogistic)\n",
      "p = 0.0000000000000000000000000, D = 0.185019 (genpareto)\n",
      "p = 0.0000000000000000000000000, D = 0.130254 (genhalflogistic)\n",
      "p = 0.0000000000000000000000000, D = 0.103236 (gilbrat)\n",
      "p = 0.0000000000000000000000000, D = 0.180552 (gompertz)\n",
      "p = 0.0000000000000000000000000, D = 0.538607 (gumbel_l)\n",
      "p = 0.0000000000000000000000000, D = 0.113522 (gumbel_r)\n",
      "p = 0.0000000000000000000000000, D = 0.171141 (halfcauchy)\n",
      "p = 0.0000000000000000000000000, D = 0.130307 (halflogistic)\n",
      "p = 0.0000000000000000000000000, D = 0.221697 (halfnorm)\n",
      "p = 0.0000000000000000000000000, D = 0.165868 (hypsecant)\n",
      "p = 0.0000000000000000000000000, D = 0.018668 (invgamma)\n",
      "p = 0.0000000000000000000274530, D = 0.014099 (invweibull)\n",
      "p = 0.0000000000000000000000000, D = 0.170966 (johnsonsb)\n",
      "p = 0.0000000000000000000000000, D = 0.018816 (johnsonsu)\n",
      "p = 0.0000000000000000000000000, D = 0.187123 (laplace)\n",
      "p = 0.0000000000000000000000000, D = 0.163498 (logistic)\n",
      "p = 0.0000000000000000000000000, D = 0.586922 (loggamma)\n",
      "p = 0.0000000000000000000000000, D = 0.061010 (loglaplace)\n",
      "p = 0.0000000000000000000000000, D = 0.138437 (lognorm)\n",
      "p = 0.0000000000000000000000000, D = 0.185014 (lomax)\n",
      "p = 0.0000000000000000000000000, D = 0.222728 (maxwell)\n"
     ]
    },
    {
     "name": "stderr",
     "output_type": "stream",
     "text": [
      "/home/leonardo/anaconda3/lib/python3.6/site-packages/scipy/stats/_distn_infrastructure.py:1618: IntegrationWarning: Extremely bad integrand behavior occurs at some points of the\n",
      "  integration interval.\n",
      "  return integrate.quad(self._mom_integ1, 0, 1, args=(m,)+args)[0]\n",
      "/home/leonardo/anaconda3/lib/python3.6/site-packages/scipy/stats/_distn_infrastructure.py:1618: IntegrationWarning: The integral is probably divergent, or slowly convergent.\n",
      "  return integrate.quad(self._mom_integ1, 0, 1, args=(m,)+args)[0]\n"
     ]
    },
    {
     "name": "stdout",
     "output_type": "stream",
     "text": [
      "p = 0.0000000000000000002387798, D = 0.013762 (mielke)\n",
      "p = 0.0000000000000000000000000, D = 0.248535 (nakagami)\n",
      "p = 0.0000000000000000000000000, D = 0.362934 (pareto)\n",
      "p = 0.0000000000000000000000000, D = 0.459338 (powerlaw)\n",
      "p = 0.0000000000000000000000000, D = 0.031286 (powerlognorm)\n",
      "p = 0.0000000000000000000000000, D = 1.000000 (powernorm)\n",
      "p = 0.0000000000000000000000000, D = 0.309285 (rdist)\n",
      "p = 0.0000000000000000000000000, D = 1.000000 (reciprocal)\n",
      "p = 0.0000000000000000000000000, D = 0.240535 (rayleigh)\n",
      "p = 0.0000000000000000000000000, D = 0.238913 (rice)\n",
      "p = 0.0000000000000000000000000, D = 0.081152 (recipinvgauss)\n",
      "p = 0.0000000000000000000000000, D = 0.720544 (semicircular)\n",
      "p = 0.0000000000000000000000000, D = 0.136888 (t)\n",
      "p = 0.0000000000000000000000000, D = 0.749151 (triang)\n",
      "p = 0.0000000000000000000000000, D = 0.755641 (truncexpon)\n",
      "p = 0.0000000000000000000000000, D = 1.000000 (truncnorm)\n",
      "p = 0.0000000000000000000000000, D = 0.916318 (uniform)\n",
      "p = 0.0000000000000000000000000, D = 216899627418997301666088457601024.000000 (vonmises)\n",
      "p = 0.0000000000000000000000000, D = 0.078261 (wald)\n",
      "p = 0.0000000000000000000000000, D = 0.116249 (weibull_min)\n",
      "p = 0.0000000000000000000000000, D = 0.889346 (weibull_max)\n",
      "p = nan, D = nan (wrapcauchy)\n"
     ]
    }
   ],
   "source": [
    "for cdf in cdfs:\n",
    "    # fit our data set against every probability distribution\n",
    "    parameters = eval(\"stats.\"+cdf+\".fit(data)\")\n",
    "    # applying the Kolmogorov-Smirnof test\n",
    "    D, p = stats.kstest(data, cdf, args=parameters)\n",
    "    # print\n",
    "    print('p = %.25f, D = %.6f (%s)' % (p,D,cdf))"
   ]
  },
  {
   "cell_type": "code",
   "execution_count": null,
   "metadata": {},
   "outputs": [],
   "source": []
  }
 ],
 "metadata": {
  "kernelspec": {
   "display_name": "Python 3",
   "language": "python",
   "name": "python3"
  },
  "language_info": {
   "codemirror_mode": {
    "name": "ipython",
    "version": 3
   },
   "file_extension": ".py",
   "mimetype": "text/x-python",
   "name": "python",
   "nbconvert_exporter": "python",
   "pygments_lexer": "ipython3",
   "version": "3.6.8"
  },
  "varInspector": {
   "cols": {
    "lenName": 16,
    "lenType": 16,
    "lenVar": 40
   },
   "kernels_config": {
    "python": {
     "delete_cmd_postfix": "",
     "delete_cmd_prefix": "del ",
     "library": "var_list.py",
     "varRefreshCmd": "print(var_dic_list())"
    },
    "r": {
     "delete_cmd_postfix": ") ",
     "delete_cmd_prefix": "rm(",
     "library": "var_list.r",
     "varRefreshCmd": "cat(var_dic_list()) "
    }
   },
   "types_to_exclude": [
    "module",
    "function",
    "builtin_function_or_method",
    "instance",
    "_Feature"
   ],
   "window_display": false
  }
 },
 "nbformat": 4,
 "nbformat_minor": 2
}
