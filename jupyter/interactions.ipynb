{
 "cells": [
  {
   "cell_type": "markdown",
   "metadata": {},
   "source": [
    "# Overview: Game Maps and Players (Interactions)"
   ]
  },
  {
   "cell_type": "code",
   "execution_count": 1,
   "metadata": {
    "ExecuteTime": {
     "end_time": "2019-05-22T18:22:38.577549Z",
     "start_time": "2019-05-22T18:22:38.131750Z"
    }
   },
   "outputs": [],
   "source": [
    "# Pandas\n",
    "import numpy as np\n",
    "import pandas as pd\n",
    "# Plot\n",
    "import seaborn as sns\n",
    "import matplotlib as mpl\n",
    "import matplotlib.pyplot as plt\n",
    "\n",
    "mpl.style.use('seaborn-whitegrid')\n",
    "%matplotlib inline"
   ]
  },
  {
   "cell_type": "markdown",
   "metadata": {},
   "source": [
    "Read data"
   ]
  },
  {
   "cell_type": "code",
   "execution_count": 2,
   "metadata": {
    "ExecuteTime": {
     "end_time": "2019-05-22T18:22:45.590769Z",
     "start_time": "2019-05-22T18:22:38.578769Z"
    }
   },
   "outputs": [],
   "source": [
    "dataset_folder = '../input'\n",
    "plot_folder = '../plot'\n",
    "\n",
    "courses = pd.read_csv('%s/%s' % (dataset_folder, 'courses.csv'), sep='\\t', encoding='utf-8')\n",
    "likes   = pd.read_csv('%s/%s' % (dataset_folder, 'likes.csv'), sep='\\t', encoding='utf-8')\n",
    "plays   = pd.read_csv('%s/%s' % (dataset_folder, 'plays.csv'), sep='\\t', encoding='utf-8')\n",
    "clears  = pd.read_csv('%s/%s' % (dataset_folder, 'clears.csv'), sep='\\t', encoding='utf-8')\n",
    "records = pd.read_csv('%s/%s' % (dataset_folder, 'records.csv'), sep='\\t', encoding='utf-8')"
   ]
  },
  {
   "cell_type": "markdown",
   "metadata": {},
   "source": [
    "Create a `dict` to store the interactions."
   ]
  },
  {
   "cell_type": "code",
   "execution_count": 3,
   "metadata": {
    "ExecuteTime": {
     "end_time": "2019-05-22T18:22:45.722625Z",
     "start_time": "2019-05-22T18:22:45.592455Z"
    }
   },
   "outputs": [],
   "source": [
    "ids = courses['id'].unique().tolist()\n",
    "interactions = {id:{'likes':0, 'plays':0, 'clears':0, 'records':0} for id in ids}"
   ]
  },
  {
   "cell_type": "markdown",
   "metadata": {},
   "source": [
    "## Overview"
   ]
  },
  {
   "cell_type": "code",
   "execution_count": 4,
   "metadata": {
    "ExecuteTime": {
     "end_time": "2019-05-22T18:22:45.727862Z",
     "start_time": "2019-05-22T18:22:45.724400Z"
    }
   },
   "outputs": [
    {
     "name": "stdout",
     "output_type": "stream",
     "text": [
      "courses: 115032\n",
      "likes: 618687\n",
      "plays: 3941378\n",
      "clears: 2051809\n",
      "records: 117126\n"
     ]
    }
   ],
   "source": [
    "names = ['courses','likes','plays','clears','records']\n",
    "for df, name in zip([courses,likes,plays,clears,records], names):\n",
    "    print('%s:' % (name), len(df))"
   ]
  },
  {
   "cell_type": "markdown",
   "metadata": {},
   "source": [
    "### Likes"
   ]
  },
  {
   "cell_type": "code",
   "execution_count": 5,
   "metadata": {
    "ExecuteTime": {
     "end_time": "2019-05-22T18:22:45.907534Z",
     "start_time": "2019-05-22T18:22:45.730445Z"
    }
   },
   "outputs": [
    {
     "data": {
      "text/html": [
       "<div>\n",
       "<style scoped>\n",
       "    .dataframe tbody tr th:only-of-type {\n",
       "        vertical-align: middle;\n",
       "    }\n",
       "\n",
       "    .dataframe tbody tr th {\n",
       "        vertical-align: top;\n",
       "    }\n",
       "\n",
       "    .dataframe thead th {\n",
       "        text-align: right;\n",
       "    }\n",
       "</style>\n",
       "<table border=\"1\" class=\"dataframe\">\n",
       "  <thead>\n",
       "    <tr style=\"text-align: right;\">\n",
       "      <th></th>\n",
       "      <th>catch</th>\n",
       "      <th>id</th>\n",
       "      <th>player</th>\n",
       "    </tr>\n",
       "  </thead>\n",
       "  <tbody>\n",
       "    <tr>\n",
       "      <th>0</th>\n",
       "      <td>2018-02-23 15:22:44.015</td>\n",
       "      <td>0000-0000-0353-3D35</td>\n",
       "      <td>groebenzell</td>\n",
       "    </tr>\n",
       "    <tr>\n",
       "      <th>1</th>\n",
       "      <td>2018-03-02 09:46:27.847</td>\n",
       "      <td>0000-0000-035A-9F14</td>\n",
       "      <td>jlan6e</td>\n",
       "    </tr>\n",
       "    <tr>\n",
       "      <th>2</th>\n",
       "      <td>2017-12-18 14:47:47.489</td>\n",
       "      <td>0001-0000-0347-486A</td>\n",
       "      <td>cat38690</td>\n",
       "    </tr>\n",
       "    <tr>\n",
       "      <th>3</th>\n",
       "      <td>2017-12-18 14:47:47.489</td>\n",
       "      <td>0001-0000-0347-486A</td>\n",
       "      <td>raulcaba</td>\n",
       "    </tr>\n",
       "    <tr>\n",
       "      <th>4</th>\n",
       "      <td>2017-12-18 14:47:48.878</td>\n",
       "      <td>0001-0000-0359-B3CD</td>\n",
       "      <td>Tugaeddy</td>\n",
       "    </tr>\n",
       "  </tbody>\n",
       "</table>\n",
       "</div>"
      ],
      "text/plain": [
       "                     catch                   id       player\n",
       "0  2018-02-23 15:22:44.015  0000-0000-0353-3D35  groebenzell\n",
       "1  2018-03-02 09:46:27.847  0000-0000-035A-9F14       jlan6e\n",
       "2  2017-12-18 14:47:47.489  0001-0000-0347-486A     cat38690\n",
       "3  2017-12-18 14:47:47.489  0001-0000-0347-486A     raulcaba\n",
       "4  2017-12-18 14:47:48.878  0001-0000-0359-B3CD     Tugaeddy"
      ]
     },
     "execution_count": 5,
     "metadata": {},
     "output_type": "execute_result"
    }
   ],
   "source": [
    "likes.head()"
   ]
  },
  {
   "cell_type": "code",
   "execution_count": 6,
   "metadata": {
    "ExecuteTime": {
     "end_time": "2019-05-22T18:22:46.216426Z",
     "start_time": "2019-05-22T18:22:45.908727Z"
    }
   },
   "outputs": [],
   "source": [
    "# count number of likes per map\n",
    "likes_per_course = likes['id'].value_counts().to_dict()"
   ]
  },
  {
   "cell_type": "code",
   "execution_count": 7,
   "metadata": {
    "ExecuteTime": {
     "end_time": "2019-05-22T18:22:46.400003Z",
     "start_time": "2019-05-22T18:22:46.217686Z"
    }
   },
   "outputs": [],
   "source": [
    "for id, values in likes_per_course.items():\n",
    "    interactions[id]['likes'] = values"
   ]
  },
  {
   "cell_type": "markdown",
   "metadata": {},
   "source": [
    "### Plays"
   ]
  },
  {
   "cell_type": "code",
   "execution_count": 8,
   "metadata": {
    "ExecuteTime": {
     "end_time": "2019-05-22T18:22:46.439473Z",
     "start_time": "2019-05-22T18:22:46.401373Z"
    }
   },
   "outputs": [
    {
     "data": {
      "text/html": [
       "<div>\n",
       "<style scoped>\n",
       "    .dataframe tbody tr th:only-of-type {\n",
       "        vertical-align: middle;\n",
       "    }\n",
       "\n",
       "    .dataframe tbody tr th {\n",
       "        vertical-align: top;\n",
       "    }\n",
       "\n",
       "    .dataframe thead th {\n",
       "        text-align: right;\n",
       "    }\n",
       "</style>\n",
       "<table border=\"1\" class=\"dataframe\">\n",
       "  <thead>\n",
       "    <tr style=\"text-align: right;\">\n",
       "      <th></th>\n",
       "      <th>catch</th>\n",
       "      <th>id</th>\n",
       "      <th>player</th>\n",
       "    </tr>\n",
       "  </thead>\n",
       "  <tbody>\n",
       "    <tr>\n",
       "      <th>0</th>\n",
       "      <td>2018-02-23 15:22:44.015</td>\n",
       "      <td>0000-0000-0353-3D35</td>\n",
       "      <td>darter60k</td>\n",
       "    </tr>\n",
       "    <tr>\n",
       "      <th>1</th>\n",
       "      <td>2018-02-23 15:22:44.015</td>\n",
       "      <td>0000-0000-0353-3D35</td>\n",
       "      <td>davidchofis</td>\n",
       "    </tr>\n",
       "    <tr>\n",
       "      <th>2</th>\n",
       "      <td>2018-02-23 15:22:44.015</td>\n",
       "      <td>0000-0000-0353-3D35</td>\n",
       "      <td>fabioviana</td>\n",
       "    </tr>\n",
       "    <tr>\n",
       "      <th>3</th>\n",
       "      <td>2018-02-23 15:22:44.015</td>\n",
       "      <td>0000-0000-0353-3D35</td>\n",
       "      <td>gorigokky</td>\n",
       "    </tr>\n",
       "    <tr>\n",
       "      <th>4</th>\n",
       "      <td>2018-02-23 15:22:44.015</td>\n",
       "      <td>0000-0000-0353-3D35</td>\n",
       "      <td>groebenzell</td>\n",
       "    </tr>\n",
       "  </tbody>\n",
       "</table>\n",
       "</div>"
      ],
      "text/plain": [
       "                     catch                   id       player\n",
       "0  2018-02-23 15:22:44.015  0000-0000-0353-3D35    darter60k\n",
       "1  2018-02-23 15:22:44.015  0000-0000-0353-3D35  davidchofis\n",
       "2  2018-02-23 15:22:44.015  0000-0000-0353-3D35   fabioviana\n",
       "3  2018-02-23 15:22:44.015  0000-0000-0353-3D35    gorigokky\n",
       "4  2018-02-23 15:22:44.015  0000-0000-0353-3D35  groebenzell"
      ]
     },
     "execution_count": 8,
     "metadata": {},
     "output_type": "execute_result"
    }
   ],
   "source": [
    "plays.head()"
   ]
  },
  {
   "cell_type": "code",
   "execution_count": 9,
   "metadata": {
    "ExecuteTime": {
     "end_time": "2019-05-22T18:22:47.034435Z",
     "start_time": "2019-05-22T18:22:46.440985Z"
    }
   },
   "outputs": [],
   "source": [
    "# count number of plays per map\n",
    "plays_per_course = plays['id'].value_counts().to_dict()"
   ]
  },
  {
   "cell_type": "code",
   "execution_count": 10,
   "metadata": {
    "ExecuteTime": {
     "end_time": "2019-05-22T18:22:47.129300Z",
     "start_time": "2019-05-22T18:22:47.035892Z"
    }
   },
   "outputs": [],
   "source": [
    "for id, values in plays_per_course.items():\n",
    "    interactions[id]['plays'] = values"
   ]
  },
  {
   "cell_type": "markdown",
   "metadata": {},
   "source": [
    "### Clears"
   ]
  },
  {
   "cell_type": "code",
   "execution_count": 11,
   "metadata": {
    "ExecuteTime": {
     "end_time": "2019-05-22T18:22:47.191582Z",
     "start_time": "2019-05-22T18:22:47.133816Z"
    }
   },
   "outputs": [
    {
     "data": {
      "text/html": [
       "<div>\n",
       "<style scoped>\n",
       "    .dataframe tbody tr th:only-of-type {\n",
       "        vertical-align: middle;\n",
       "    }\n",
       "\n",
       "    .dataframe tbody tr th {\n",
       "        vertical-align: top;\n",
       "    }\n",
       "\n",
       "    .dataframe thead th {\n",
       "        text-align: right;\n",
       "    }\n",
       "</style>\n",
       "<table border=\"1\" class=\"dataframe\">\n",
       "  <thead>\n",
       "    <tr style=\"text-align: right;\">\n",
       "      <th></th>\n",
       "      <th>catch</th>\n",
       "      <th>id</th>\n",
       "      <th>player</th>\n",
       "    </tr>\n",
       "  </thead>\n",
       "  <tbody>\n",
       "    <tr>\n",
       "      <th>0</th>\n",
       "      <td>2018-02-23 15:22:44.015</td>\n",
       "      <td>0000-0000-0353-3D35</td>\n",
       "      <td>darter60k</td>\n",
       "    </tr>\n",
       "    <tr>\n",
       "      <th>1</th>\n",
       "      <td>2018-02-23 15:22:44.015</td>\n",
       "      <td>0000-0000-0353-3D35</td>\n",
       "      <td>davidchofis</td>\n",
       "    </tr>\n",
       "    <tr>\n",
       "      <th>2</th>\n",
       "      <td>2018-02-23 15:22:44.015</td>\n",
       "      <td>0000-0000-0353-3D35</td>\n",
       "      <td>fabioviana</td>\n",
       "    </tr>\n",
       "    <tr>\n",
       "      <th>3</th>\n",
       "      <td>2018-02-23 15:22:44.015</td>\n",
       "      <td>0000-0000-0353-3D35</td>\n",
       "      <td>groebenzell</td>\n",
       "    </tr>\n",
       "    <tr>\n",
       "      <th>4</th>\n",
       "      <td>2018-02-23 15:22:44.015</td>\n",
       "      <td>0000-0000-0353-3D35</td>\n",
       "      <td>igatake0229</td>\n",
       "    </tr>\n",
       "  </tbody>\n",
       "</table>\n",
       "</div>"
      ],
      "text/plain": [
       "                     catch                   id       player\n",
       "0  2018-02-23 15:22:44.015  0000-0000-0353-3D35    darter60k\n",
       "1  2018-02-23 15:22:44.015  0000-0000-0353-3D35  davidchofis\n",
       "2  2018-02-23 15:22:44.015  0000-0000-0353-3D35   fabioviana\n",
       "3  2018-02-23 15:22:44.015  0000-0000-0353-3D35  groebenzell\n",
       "4  2018-02-23 15:22:44.015  0000-0000-0353-3D35  igatake0229"
      ]
     },
     "execution_count": 11,
     "metadata": {},
     "output_type": "execute_result"
    }
   ],
   "source": [
    "clears.head()"
   ]
  },
  {
   "cell_type": "code",
   "execution_count": 12,
   "metadata": {
    "ExecuteTime": {
     "end_time": "2019-05-22T18:22:47.575320Z",
     "start_time": "2019-05-22T18:22:47.194083Z"
    }
   },
   "outputs": [],
   "source": [
    "# count number of clears per map\n",
    "clears_per_course = clears['id'].value_counts().to_dict()"
   ]
  },
  {
   "cell_type": "code",
   "execution_count": 13,
   "metadata": {
    "ExecuteTime": {
     "end_time": "2019-05-22T18:22:47.747714Z",
     "start_time": "2019-05-22T18:22:47.576646Z"
    }
   },
   "outputs": [],
   "source": [
    "for id, values in clears_per_course.items():\n",
    "    interactions[id]['clears'] = values"
   ]
  },
  {
   "cell_type": "markdown",
   "metadata": {},
   "source": [
    "### Records"
   ]
  },
  {
   "cell_type": "code",
   "execution_count": 14,
   "metadata": {
    "ExecuteTime": {
     "end_time": "2019-05-22T18:22:47.805957Z",
     "start_time": "2019-05-22T18:22:47.749442Z"
    }
   },
   "outputs": [
    {
     "data": {
      "text/html": [
       "<div>\n",
       "<style scoped>\n",
       "    .dataframe tbody tr th:only-of-type {\n",
       "        vertical-align: middle;\n",
       "    }\n",
       "\n",
       "    .dataframe tbody tr th {\n",
       "        vertical-align: top;\n",
       "    }\n",
       "\n",
       "    .dataframe thead th {\n",
       "        text-align: right;\n",
       "    }\n",
       "</style>\n",
       "<table border=\"1\" class=\"dataframe\">\n",
       "  <thead>\n",
       "    <tr style=\"text-align: right;\">\n",
       "      <th></th>\n",
       "      <th>catch</th>\n",
       "      <th>id</th>\n",
       "      <th>player</th>\n",
       "      <th>timeRecord</th>\n",
       "    </tr>\n",
       "  </thead>\n",
       "  <tbody>\n",
       "    <tr>\n",
       "      <th>0</th>\n",
       "      <td>2017-12-18 15:35:29.015</td>\n",
       "      <td>F68A-0000-0337-AF4F</td>\n",
       "      <td>The_Brucican</td>\n",
       "      <td>15482</td>\n",
       "    </tr>\n",
       "    <tr>\n",
       "      <th>1</th>\n",
       "      <td>2018-03-02 10:09:32.392</td>\n",
       "      <td>9669-0000-0330-554C</td>\n",
       "      <td>inoino2226</td>\n",
       "      <td>9265</td>\n",
       "    </tr>\n",
       "    <tr>\n",
       "      <th>2</th>\n",
       "      <td>2017-12-18 15:47:40.665</td>\n",
       "      <td>0D1D-0000-0355-DA7A</td>\n",
       "      <td>hbeeboy</td>\n",
       "      <td>6692</td>\n",
       "    </tr>\n",
       "    <tr>\n",
       "      <th>3</th>\n",
       "      <td>2018-02-23 15:02:20.557</td>\n",
       "      <td>18E3-0000-032A-27AB</td>\n",
       "      <td>Khazey</td>\n",
       "      <td>40383</td>\n",
       "    </tr>\n",
       "    <tr>\n",
       "      <th>4</th>\n",
       "      <td>2018-02-23 15:05:16.414</td>\n",
       "      <td>2C55-0000-0300-854A</td>\n",
       "      <td>okayan3378</td>\n",
       "      <td>1533</td>\n",
       "    </tr>\n",
       "  </tbody>\n",
       "</table>\n",
       "</div>"
      ],
      "text/plain": [
       "                     catch                   id        player  timeRecord\n",
       "0  2017-12-18 15:35:29.015  F68A-0000-0337-AF4F  The_Brucican       15482\n",
       "1  2018-03-02 10:09:32.392  9669-0000-0330-554C    inoino2226        9265\n",
       "2  2017-12-18 15:47:40.665  0D1D-0000-0355-DA7A       hbeeboy        6692\n",
       "3  2018-02-23 15:02:20.557  18E3-0000-032A-27AB        Khazey       40383\n",
       "4  2018-02-23 15:05:16.414  2C55-0000-0300-854A    okayan3378        1533"
      ]
     },
     "execution_count": 14,
     "metadata": {},
     "output_type": "execute_result"
    }
   ],
   "source": [
    "records.head()"
   ]
  },
  {
   "cell_type": "code",
   "execution_count": 15,
   "metadata": {
    "ExecuteTime": {
     "end_time": "2019-05-22T18:22:48.019577Z",
     "start_time": "2019-05-22T18:22:47.807387Z"
    }
   },
   "outputs": [],
   "source": [
    "# count number of records per map\n",
    "records_per_course = records['id'].value_counts().to_dict()"
   ]
  },
  {
   "cell_type": "code",
   "execution_count": 16,
   "metadata": {
    "ExecuteTime": {
     "end_time": "2019-05-22T18:22:48.142806Z",
     "start_time": "2019-05-22T18:22:48.021209Z"
    }
   },
   "outputs": [],
   "source": [
    "for id, values in records_per_course.items():\n",
    "    interactions[id]['records'] = values"
   ]
  },
  {
   "cell_type": "markdown",
   "metadata": {},
   "source": [
    "### Plot"
   ]
  },
  {
   "cell_type": "code",
   "execution_count": 17,
   "metadata": {
    "ExecuteTime": {
     "end_time": "2019-05-22T18:22:48.224405Z",
     "start_time": "2019-05-22T18:22:48.145932Z"
    }
   },
   "outputs": [
    {
     "data": {
      "image/png": "[encoded data removed]",
      "text/plain": [
       "<Figure size 288x72 with 1 Axes>"
      ]
     },
     "metadata": {
      "needs_background": "light"
     },
     "output_type": "display_data"
    }
   ],
   "source": [
    "# palette of colors\n",
    "palette = sns.color_palette('colorblind', 4)\n",
    "sns.palplot(palette)"
   ]
  },
  {
   "cell_type": "code",
   "execution_count": 18,
   "metadata": {
    "ExecuteTime": {
     "end_time": "2019-05-22T18:22:52.817319Z",
     "start_time": "2019-05-22T18:22:48.226070Z"
    }
   },
   "outputs": [],
   "source": [
    "# data sorted\n",
    "df = pd.DataFrame(interactions).transpose()\n",
    "df['sum'] = df['likes'] + df['plays'] + df['clears'] + df['records']\n",
    "df = df.sort_values(by=['sum'], ascending=False)"
   ]
  },
  {
   "cell_type": "code",
   "execution_count": 19,
   "metadata": {
    "ExecuteTime": {
     "end_time": "2019-05-22T18:22:52.824767Z",
     "start_time": "2019-05-22T18:22:52.818708Z"
    }
   },
   "outputs": [
    {
     "data": {
      "text/html": [
       "<div>\n",
       "<style scoped>\n",
       "    .dataframe tbody tr th:only-of-type {\n",
       "        vertical-align: middle;\n",
       "    }\n",
       "\n",
       "    .dataframe tbody tr th {\n",
       "        vertical-align: top;\n",
       "    }\n",
       "\n",
       "    .dataframe thead th {\n",
       "        text-align: right;\n",
       "    }\n",
       "</style>\n",
       "<table border=\"1\" class=\"dataframe\">\n",
       "  <thead>\n",
       "    <tr style=\"text-align: right;\">\n",
       "      <th></th>\n",
       "      <th>clears</th>\n",
       "      <th>likes</th>\n",
       "      <th>plays</th>\n",
       "      <th>records</th>\n",
       "      <th>sum</th>\n",
       "    </tr>\n",
       "  </thead>\n",
       "  <tbody>\n",
       "    <tr>\n",
       "      <th>5AB9-0000-038F-A23E</th>\n",
       "      <td>1475</td>\n",
       "      <td>316</td>\n",
       "      <td>1673</td>\n",
       "      <td>2</td>\n",
       "      <td>3466</td>\n",
       "    </tr>\n",
       "    <tr>\n",
       "      <th>DE4D-0000-035D-3AE1</th>\n",
       "      <td>612</td>\n",
       "      <td>462</td>\n",
       "      <td>1089</td>\n",
       "      <td>1</td>\n",
       "      <td>2164</td>\n",
       "    </tr>\n",
       "    <tr>\n",
       "      <th>8F40-0000-0391-4B50</th>\n",
       "      <td>851</td>\n",
       "      <td>185</td>\n",
       "      <td>1014</td>\n",
       "      <td>1</td>\n",
       "      <td>2051</td>\n",
       "    </tr>\n",
       "    <tr>\n",
       "      <th>CE94-0000-038F-7559</th>\n",
       "      <td>737</td>\n",
       "      <td>193</td>\n",
       "      <td>997</td>\n",
       "      <td>1</td>\n",
       "      <td>1928</td>\n",
       "    </tr>\n",
       "    <tr>\n",
       "      <th>BAC8-0000-036A-7EE1</th>\n",
       "      <td>622</td>\n",
       "      <td>322</td>\n",
       "      <td>937</td>\n",
       "      <td>1</td>\n",
       "      <td>1882</td>\n",
       "    </tr>\n",
       "  </tbody>\n",
       "</table>\n",
       "</div>"
      ],
      "text/plain": [
       "                     clears  likes  plays  records   sum\n",
       "5AB9-0000-038F-A23E    1475    316   1673        2  3466\n",
       "DE4D-0000-035D-3AE1     612    462   1089        1  2164\n",
       "8F40-0000-0391-4B50     851    185   1014        1  2051\n",
       "CE94-0000-038F-7559     737    193    997        1  1928\n",
       "BAC8-0000-036A-7EE1     622    322    937        1  1882"
      ]
     },
     "execution_count": 19,
     "metadata": {},
     "output_type": "execute_result"
    }
   ],
   "source": [
    "df.head()"
   ]
  },
  {
   "cell_type": "code",
   "execution_count": 20,
   "metadata": {
    "ExecuteTime": {
     "end_time": "2019-05-22T18:22:53.380612Z",
     "start_time": "2019-05-22T18:22:52.826403Z"
    }
   },
   "outputs": [],
   "source": [
    "# settings\n",
    "limit = 100\n",
    "fontsize = 14\n",
    "\n",
    "# getting axis\n",
    "axis_id = df.index.tolist()[0:limit]\n",
    "axis_plays = df['plays'].tolist()[0:limit]\n",
    "axis_clears = df['clears'].tolist()[0:limit]\n",
    "axis_records = df['records'].tolist()[0:limit]\n",
    "axis_likes = df['likes'].tolist()[0:limit]"
   ]
  },
  {
   "cell_type": "code",
   "execution_count": 21,
   "metadata": {
    "ExecuteTime": {
     "end_time": "2019-05-22T18:22:54.537906Z",
     "start_time": "2019-05-22T18:22:53.382471Z"
    }
   },
   "outputs": [
    {
     "data": {
      "image/png": "[encoded data removed]",
      "text/plain": [
       "<Figure size 720x216 with 1 Axes>"
      ]
     },
     "metadata": {
      "needs_background": "light"
     },
     "output_type": "display_data"
    }
   ],
   "source": [
    "# plot\n",
    "fig, ax = plt.subplots()\n",
    "bottom_records  = [axis_plays[i] + axis_clears[i] for i in range(0, limit)]\n",
    "bottom_likes    = [bottom_records[i] + axis_records[i] for i in range(0, limit)]\n",
    "\n",
    "# bar plot\n",
    "p1 = plt.bar(range(0, limit), axis_plays, color=palette[0], label='Plays')\n",
    "p2 = plt.bar(range(0, limit), axis_clears, bottom=axis_plays, color=palette[1], label='Clears')\n",
    "p3 = plt.bar(range(0, limit), axis_records, bottom=bottom_records, color=palette[2], label='Records')\n",
    "p4 = plt.bar(range(0, limit), axis_likes, bottom=bottom_likes, color=palette[3], label='Likes')\n",
    "\n",
    "# texts and labels\n",
    "plt.ylabel('Players Interactions', fontsize=fontsize)\n",
    "plt.xlabel('Game Maps', fontsize=fontsize)\n",
    "lgd = ax.legend(loc='center', bbox_to_anchor=(0.85, 0, 0.5, 1), prop={'size':fontsize})\n",
    "\n",
    "# ticks\n",
    "fig.set_size_inches(10, 3, forward=True)\n",
    "plt.xlim(-1, 100)\n",
    "plt.savefig('%s/%s.pdf' % (plot_folder, 'interactions'), dpi=300, bbox_extra_artists=(lgd,), bbox_inches='tight')\n",
    "plt.show()"
   ]
  },
  {
   "cell_type": "code",
   "execution_count": null,
   "metadata": {},
   "outputs": [],
   "source": []
  }
 ],
 "metadata": {
  "kernelspec": {
   "display_name": "Python 3",
   "language": "python",
   "name": "python3"
  },
  "language_info": {
   "codemirror_mode": {
    "name": "ipython",
    "version": 3
   },
   "file_extension": ".py",
   "mimetype": "text/x-python",
   "name": "python",
   "nbconvert_exporter": "python",
   "pygments_lexer": "ipython3",
   "version": "3.7.0"
  },
  "varInspector": {
   "cols": {
    "lenName": 16,
    "lenType": 16,
    "lenVar": 40
   },
   "kernels_config": {
    "python": {
     "delete_cmd_postfix": "",
     "delete_cmd_prefix": "del ",
     "library": "var_list.py",
     "varRefreshCmd": "print(var_dic_list())"
    },
    "r": {
     "delete_cmd_postfix": ") ",
     "delete_cmd_prefix": "rm(",
     "library": "var_list.r",
     "varRefreshCmd": "cat(var_dic_list()) "
    }
   },
   "types_to_exclude": [
    "module",
    "function",
    "builtin_function_or_method",
    "instance",
    "_Feature"
   ],
   "window_display": false
  }
 },
 "nbformat": 4,
 "nbformat_minor": 2
}
